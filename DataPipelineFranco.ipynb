{
  "nbformat": 4,
  "nbformat_minor": 0,
  "metadata": {
    "colab": {
      "provenance": [],
      "authorship_tag": "ABX9TyOKhQwAhvvfNhSWX43VY3tr",
      "include_colab_link": true
    },
    "kernelspec": {
      "name": "python3",
      "display_name": "Python 3"
    },
    "language_info": {
      "name": "python"
    }
  },
  "cells": [
    {
      "cell_type": "markdown",
      "metadata": {
        "id": "view-in-github",
        "colab_type": "text"
      },
      "source": [
        "<a href=\"https://colab.research.google.com/github/david7franco/DataWarehousing/blob/main/DataPipelineFranco.ipynb\" target=\"_parent\"><img src=\"https://colab.research.google.com/assets/colab-badge.svg\" alt=\"Open In Colab\"/></a>"
      ]
    },
    {
      "cell_type": "code",
      "execution_count": null,
      "metadata": {
        "id": "-EsnJh_mnCBd",
        "colab": {
          "base_uri": "https://localhost:8080/"
        },
        "outputId": "bfc1e6bd-6e37-447a-e790-86585983023d"
      },
      "outputs": [
        {
          "output_type": "stream",
          "name": "stdout",
          "text": [
            "Collecting unidecode\n",
            "  Downloading Unidecode-1.3.8-py3-none-any.whl (235 kB)\n",
            "\u001b[?25l     \u001b[90m━━━━━━━━━━━━━━━━━━━━━━━━━━━━━━━━━━━━━━━━\u001b[0m \u001b[32m0.0/235.5 kB\u001b[0m \u001b[31m?\u001b[0m eta \u001b[36m-:--:--\u001b[0m\r\u001b[2K     \u001b[91m━━━━━━━━━━━━━━━━━━━━━━━━━━━\u001b[0m\u001b[91m╸\u001b[0m\u001b[90m━━━━━━━━━━━━\u001b[0m \u001b[32m163.8/235.5 kB\u001b[0m \u001b[31m4.7 MB/s\u001b[0m eta \u001b[36m0:00:01\u001b[0m\r\u001b[2K     \u001b[90m━━━━━━━━━━━━━━━━━━━━━━━━━━━━━━━━━━━━━━━━\u001b[0m \u001b[32m235.5/235.5 kB\u001b[0m \u001b[31m4.6 MB/s\u001b[0m eta \u001b[36m0:00:00\u001b[0m\n",
            "\u001b[?25hInstalling collected packages: unidecode\n",
            "Successfully installed unidecode-1.3.8\n"
          ]
        }
      ],
      "source": [
        "import sqlite3 as lite\n",
        "import csv\n",
        "%pip install unidecode\n"
      ]
    },
    {
      "cell_type": "code",
      "source": [
        "from google.colab import drive\n",
        "drive.mount('/content/drive')"
      ],
      "metadata": {
        "colab": {
          "base_uri": "https://localhost:8080/"
        },
        "id": "P-bbdcCuVV-K",
        "outputId": "5b5dfaa7-0f6a-4285-9486-0a2afd2c6658"
      },
      "execution_count": null,
      "outputs": [
        {
          "output_type": "stream",
          "name": "stdout",
          "text": [
            "Mounted at /content/drive\n"
          ]
        }
      ]
    },
    {
      "cell_type": "code",
      "source": [
        "con = lite.connect(\n",
        "    r\"tweets.db\"\n",
        ")  # we'll create a physical database because we're in DW, but for\n",
        "# 50,000 tweets we could create this in memory. Google it!\n",
        "\n",
        "cur = con.cursor()\n",
        "\n"
      ],
      "metadata": {
        "id": "nZvMIe6enDeZ"
      },
      "execution_count": null,
      "outputs": []
    },
    {
      "cell_type": "code",
      "source": [
        "s = '''&amp; 蔚来汽车有限公司 Automatisiertes System und Verfahren &#39; Primärfrequenz Überwachung &amp; in einen Turbogenerator.&#39;'''\n",
        "\n",
        "s"
      ],
      "metadata": {
        "id": "R8LaTC6ntinG",
        "colab": {
          "base_uri": "https://localhost:8080/",
          "height": 53
        },
        "outputId": "266f715e-1501-4d46-a9c5-63087e05d360"
      },
      "execution_count": null,
      "outputs": [
        {
          "output_type": "execute_result",
          "data": {
            "text/plain": [
              "'&amp; 蔚来汽车有限公司 Automatisiertes System und Verfahren &#39; Primärfrequenz Überwachung &amp; in einen Turbogenerator.&#39;'"
            ],
            "application/vnd.google.colaboratory.intrinsic+json": {
              "type": "string"
            }
          },
          "metadata": {},
          "execution_count": 5
        }
      ]
    },
    {
      "cell_type": "code",
      "source": [
        "import html\n",
        "import unidecode\n",
        "#get rid of html codes\n",
        "print(html.unescape(s)+\"\\n\")\n",
        "\n",
        "#get rid of umlauts in German and convert Chinese to english.\n",
        "print(unidecode.unidecode(s)+'\\n')\n",
        "\n",
        "import re\n",
        "#get rid of non-ascii\n",
        "skips = re.compile(r\"[^\\x00-\\x7F]\")  #get rid of anything non-ascii\n",
        "print(re.sub(skips,\" \",s)+'\\n')"
      ],
      "metadata": {
        "id": "WcwbSFs8qs_Z",
        "colab": {
          "base_uri": "https://localhost:8080/"
        },
        "outputId": "97e13bb2-d19f-4d95-fa28-a022c6b95b85"
      },
      "execution_count": null,
      "outputs": [
        {
          "output_type": "stream",
          "name": "stdout",
          "text": [
            "& 蔚来汽车有限公司 Automatisiertes System und Verfahren ' Primärfrequenz Überwachung & in einen Turbogenerator.'\n",
            "\n",
            "&amp; Wei Lai Qi Che You Xian Gong Si  Automatisiertes System und Verfahren &#39; Primarfrequenz Uberwachung &amp; in einen Turbogenerator.&#39;\n",
            "\n",
            "&amp;          Automatisiertes System und Verfahren &#39; Prim rfrequenz  berwachung &amp; in einen Turbogenerator.&#39;\n",
            "\n"
          ]
        }
      ]
    },
    {
      "cell_type": "code",
      "source": [
        "def decode2(s):\n",
        "    t = unidecode.unidecode(s)\n",
        "    if (t == '[?]'):\n",
        "        return '_'\n",
        "    else:\n",
        "        return(t)\n",
        "\n",
        "def decodeStr(s):\n",
        "    t =\"\"\n",
        "    for x in s:\n",
        "      t = t+decode2(x)\n",
        "    return t\n",
        "\n",
        "\n",
        "def clean_work(s):\n",
        "    s = html.unescape(s)\n",
        "    s = decodeStr(s)  #convert foreign language to bad-english\n",
        "    skips = re.compile(r\"[^\\x00-\\x7F]\")  #get rid of anything non-ascii\n",
        "    s = re.sub(skips,\" \",s)\n",
        "    s = re.sub('  ',' ',s)\n",
        "    s = s.replace('\\t',' ')\n",
        "    s = s.replace('\\n',' ')\n",
        "    s = s.replace(\"'\",\" \")  #get rid of single quotes\n",
        "    s = s.replace('\"',' ')  #get rid of double quotes\n",
        "    s = s.replace('  ',' ') #get rid of extra spaces\n",
        "    return(s.strip())\n",
        "\n",
        "def clean(s):\n",
        "    s=clean_work(s)\n",
        "    t=clean_work(s)\n",
        "    while(s!=t):\n",
        "        s=t\n",
        "        t=clean_work(s)\n",
        "    return(s)\n"
      ],
      "metadata": {
        "id": "gb5R2_V6qqdl"
      },
      "execution_count": null,
      "outputs": []
    },
    {
      "cell_type": "code",
      "source": [
        "s"
      ],
      "metadata": {
        "id": "_X8z_QT1t0v3",
        "colab": {
          "base_uri": "https://localhost:8080/",
          "height": 53
        },
        "outputId": "0602f87b-ad7f-4cfb-d95e-4778479883ed"
      },
      "execution_count": null,
      "outputs": [
        {
          "output_type": "execute_result",
          "data": {
            "text/plain": [
              "'&amp; 蔚来汽车有限公司 Automatisiertes System und Verfahren &#39; Primärfrequenz Überwachung &amp; in einen Turbogenerator.&#39;'"
            ],
            "application/vnd.google.colaboratory.intrinsic+json": {
              "type": "string"
            }
          },
          "metadata": {},
          "execution_count": 8
        }
      ]
    },
    {
      "cell_type": "code",
      "source": [
        "clean(s)"
      ],
      "metadata": {
        "id": "qGNPSDuHt0_i",
        "colab": {
          "base_uri": "https://localhost:8080/",
          "height": 53
        },
        "outputId": "89e58627-56f0-444e-d9bc-889584b2fd9f"
      },
      "execution_count": null,
      "outputs": [
        {
          "output_type": "execute_result",
          "data": {
            "text/plain": [
              "'& Wei Lai Qi Che You Xian Gong Si Automatisiertes System und Verfahren Primarfrequenz Uberwachung & in einen Turbogenerator.'"
            ],
            "application/vnd.google.colaboratory.intrinsic+json": {
              "type": "string"
            }
          },
          "metadata": {},
          "execution_count": 9
        }
      ]
    },
    {
      "cell_type": "code",
      "source": [
        "with open(r\"../content/randomTweets.txt\") as csv_file:\n",
        "    csv_reader = csv.reader(csv_file, delimiter='\\t')\n",
        "    for i,row in enumerate(csv_reader):\n",
        "        if (i < 10):\n",
        "            date = row[0]\n",
        "            tweetID = row[1]\n",
        "            tweet = clean(row[2]).lower()\n",
        "            handle = row[4]\n",
        "            print(date,tweetID,tweet,handle,'\\n')\n",
        "\n",
        "print(i,' rows in file')"
      ],
      "metadata": {
        "id": "XrnaSTvmuFB7",
        "colab": {
          "base_uri": "https://localhost:8080/"
        },
        "outputId": "408454ba-531a-4e48-a6e3-dea615a846af"
      },
      "execution_count": null,
      "outputs": [
        {
          "output_type": "stream",
          "name": "stdout",
          "text": [
            "Sat Jul 25 04:43:04 +0000 2020 1286884650187718656 rt @platinumjab: shiv is the seed of the seed of the seed. shiv is the first seed. shiv is the beginning of the beginning of the beginnin Vijaykant087 \n",
            "\n",
            "Sat Jul 25 04:43:04 +0000 2020 1286884650175074304 rt @catvalente: every millennial i know is locked in their house doomscrolling & baking bread while their parents think masks are poisonous AndaliteBandit \n",
            "\n",
            "Sat Jul 25 05:06:28 +0000 2020 1286890539359416321 rt @ghettofabulos0: candy - partynextdoor x nipsey hussle. thats the tweet. reignofmaya \n",
            "\n",
            "Sat Jul 25 05:06:28 +0000 2020 1286890539355459586 rt @realjameswoods: #ripbernelltremmell // this hate crime isnt getting much attention from the democrat propaganda machine, but im hopin BrojackNorseman \n",
            "\n",
            "Sat Jul 25 05:06:28 +0000 2020 1286890539330211840 rt @iunarmins: do you see the problem https://t.co/8jgulntrnf Franwfilter \n",
            "\n",
            "Sat Jul 25 05:06:28 +0000 2020 1286890539326099456 rt @cloydrivers: dr. fauci, the man who insists we must wear masks and social distance.... merica. https://t.co/wgwvigxycq LiamO2132 \n",
            "\n",
            "Sat Jul 25 05:06:28 +0000 2020 1286890539326070784 this week @maltapolice comm. gaf said that there is no basis for a @europol joint investigation team [jit]. re https://t.co/nmcbexecwn repubblikaMT \n",
            "\n",
            "Sat Jul 25 05:06:28 +0000 2020 1286890539288104960 rt @tedcruz: john roberts has abandoned his oath. but, on the upside, maybe nevada churches should set up craps tables? then they could 12BravoGran \n",
            "\n",
            "Sat Jul 25 05:06:28 +0000 2020 1286890539275767808 @thejackvaughan i live in 37919 but i feel like its the suburbs fleeing the gop effect. if you look at hd-13 preci https://t.co/7w2kkxgf9a jackking517 \n",
            "\n",
            "Sat Jul 25 05:06:28 +0000 2020 1286890539254599682 rt @wolardbert: pretty sure these are my fave conversation options in the game https://t.co/8cwvmucdvb WeedSenpai \n",
            "\n",
            "5092  rows in file\n"
          ]
        }
      ]
    },
    {
      "cell_type": "code",
      "source": [
        "#python string slicing is confusing.\n",
        "#we'll write simpler functions so future readers can figure out what we're doing\n",
        "def left(s, amount):\n",
        "    return s[:amount]\n",
        "\n",
        "def right(s, amount):\n",
        "    return s[-amount:]\n",
        "\n",
        "s = 'this is a test'\n",
        "print(s,'\\n',left(s,4),'\\n',right(s,4))"
      ],
      "metadata": {
        "id": "khfHTQj0uFJF",
        "colab": {
          "base_uri": "https://localhost:8080/"
        },
        "outputId": "d8bc7865-6dd2-48da-d323-54ec289595f2"
      },
      "execution_count": null,
      "outputs": [
        {
          "output_type": "stream",
          "name": "stdout",
          "text": [
            "this is a test \n",
            " this \n",
            " test\n"
          ]
        }
      ]
    },
    {
      "cell_type": "code",
      "source": [
        "#return True on retweet\n",
        "#assumes tweet is lowercase\n",
        "def isRetweet(tweet):\n",
        "    return (left(tweet,3)=='rt ')"
      ],
      "metadata": {
        "id": "t1o-3d2duFPF"
      },
      "execution_count": null,
      "outputs": []
    },
    {
      "cell_type": "code",
      "source": [
        "import sqlite3 as lite\n",
        "\n",
        "\n",
        "#create a tweets table\n",
        "cur.execute('drop table if exists tweets')\n",
        "cur.execute('create Table tweets(date1 TEXT, tweetID TEXT, TWEET TEXT, handle TEXT, isRetweet INT)')\n",
        "\n",
        "with open(r\"../content/randomTweets.txt\") as csv_file:\n",
        "    csv_reader = csv.reader(csv_file, delimiter='\\t')\n",
        "    for i,row in enumerate(csv_reader):\n",
        "            date = row[0]\n",
        "            tweetID = row[1]\n",
        "            tweet = clean(row[2]).lower()\n",
        "            handle = row[4]\n",
        "            if (isRetweet(tweet)):\n",
        "                isRT = 1\n",
        "            else:\n",
        "                isRT = 0\n",
        "            if ((i % 20000)==0):\n",
        "                con.commit()\n",
        "                print('committing row '+str(i))\n",
        "            try:\n",
        "              cur.execute(\"INSERT INTO tweets VALUES (?,?,?,?,?)\",\n",
        "                          (date,tweetID,tweet,handle,isRT))\n",
        "            except lite.OperationalError as err:\n",
        "                 print(\"insert error: %s\", err)\n",
        "                 break\n",
        "\n",
        "\n",
        "print(i,' rows in file')"
      ],
      "metadata": {
        "id": "vZm3f2ibnDjb",
        "colab": {
          "base_uri": "https://localhost:8080/"
        },
        "outputId": "32bc6725-ceab-4c18-eb8a-19f435771e38"
      },
      "execution_count": null,
      "outputs": [
        {
          "output_type": "stream",
          "name": "stdout",
          "text": [
            "committing row 0\n",
            "committing row 20000\n",
            "committing row 40000\n",
            "50025  rows in file\n"
          ]
        }
      ]
    },
    {
      "cell_type": "code",
      "source": [
        "#simple query to return first 25 tweets in the tweet database\n",
        "\n",
        "s = \"select * from tweets limit 25\"\n",
        "cur.execute(s)\n",
        "rows = cur.fetchall()\n",
        "\n",
        "names = list(map(lambda x: x[0], cur.description)) #pulled from stackoverflow, returns the column names - https://stackoverflow.com/questions/7831371/is-there-a-way-to-get-a-list-of-column-names-in-sqlite\n",
        "print(names)\n",
        "for row in rows:\n",
        "    print(row, \"\\n\")\n"
      ],
      "metadata": {
        "id": "UWRQbL4JnDqp",
        "colab": {
          "base_uri": "https://localhost:8080/"
        },
        "outputId": "82c83f97-f454-4fdd-fd0d-287e143163ff"
      },
      "execution_count": null,
      "outputs": [
        {
          "output_type": "stream",
          "name": "stdout",
          "text": [
            "['date1', 'tweetID', 'TWEET', 'handle', 'isRetweet']\n",
            "('Sat Jul 25 04:43:04 +0000 2020', '1286884650187718656', 'rt @platinumjab: shiv is the seed of the seed of the seed. shiv is the first seed. shiv is the beginning of the beginning of the beginnin', 'Vijaykant087', 1) \n",
            "\n",
            "('Sat Jul 25 04:43:04 +0000 2020', '1286884650175074304', 'rt @catvalente: every millennial i know is locked in their house doomscrolling & baking bread while their parents think masks are poisonous', 'AndaliteBandit', 1) \n",
            "\n",
            "('Sat Jul 25 05:06:28 +0000 2020', '1286890539359416321', 'rt @ghettofabulos0: candy - partynextdoor x nipsey hussle. thats the tweet.', 'reignofmaya', 1) \n",
            "\n",
            "('Sat Jul 25 05:06:28 +0000 2020', '1286890539355459586', 'rt @realjameswoods: #ripbernelltremmell // this hate crime isnt getting much attention from the democrat propaganda machine, but im hopin', 'BrojackNorseman', 1) \n",
            "\n",
            "('Sat Jul 25 05:06:28 +0000 2020', '1286890539330211840', 'rt @iunarmins: do you see the problem https://t.co/8jgulntrnf', 'Franwfilter', 1) \n",
            "\n",
            "('Sat Jul 25 05:06:28 +0000 2020', '1286890539326099456', 'rt @cloydrivers: dr. fauci, the man who insists we must wear masks and social distance.... merica. https://t.co/wgwvigxycq', 'LiamO2132', 1) \n",
            "\n",
            "('Sat Jul 25 05:06:28 +0000 2020', '1286890539326070784', 'this week @maltapolice comm. gaf said that there is no basis for a @europol joint investigation team [jit]. re https://t.co/nmcbexecwn', 'repubblikaMT', 0) \n",
            "\n",
            "('Sat Jul 25 05:06:28 +0000 2020', '1286890539288104960', 'rt @tedcruz: john roberts has abandoned his oath. but, on the upside, maybe nevada churches should set up craps tables? then they could', '12BravoGran', 1) \n",
            "\n",
            "('Sat Jul 25 05:06:28 +0000 2020', '1286890539275767808', '@thejackvaughan i live in 37919 but i feel like its the suburbs fleeing the gop effect. if you look at hd-13 preci https://t.co/7w2kkxgf9a', 'jackking517', 0) \n",
            "\n",
            "('Sat Jul 25 05:06:28 +0000 2020', '1286890539254599682', 'rt @wolardbert: pretty sure these are my fave conversation options in the game https://t.co/8cwvmucdvb', 'WeedSenpai', 1) \n",
            "\n",
            "('Sat Jul 25 05:06:28 +0000 2020', '1286890539250593794', 'rt @kbpats8012: @todayshow @williegeist @savannahguthrie dr. birx is part of the problem we have today. she got enthralled with trump and n', 'Virgmatt', 1) \n",
            "\n",
            "('Sat Jul 25 05:06:28 +0000 2020', '1286890539250409472', 'rt @aegyodobby: the only glow up that matters, period. https://t.co/uv79qam2sz', 'kyuternal', 1) \n",
            "\n",
            "('Sat Jul 25 05:06:28 +0000 2020', '1286890539246325761', 'rt @danielsgoldman: its one thing for a wannabe fascist to cheat to win an election and become president. but its altogether another thin', 'beachnut758', 1) \n",
            "\n",
            "('Sat Jul 25 05:06:28 +0000 2020', '1286890539242029056', '@pradeeponelife bro wish you a happiest birthday ever. looking forward to the good news. a thalapathy padam from you', 'arunmanoj489', 0) \n",
            "\n",
            "('Sat Jul 25 05:06:28 +0000 2020', '1286890539225419781', 'this!! @joebiden should make clear the team that he would hope to put in place. doesnt need to be concrete. but ou https://t.co/vxmc50yhdk', 'AquaLunaSAT', 0) \n",
            "\n",
            "('Sat Jul 25 05:06:28 +0000 2020', '1286890539225247745', 'rt @7ologie: 7ologie is a project dedicated to the bts fanartist community. we built an interactive website that celebrates the 7 years of', 'hopechmmy', 1) \n",
            "\n",
            "('Sat Jul 25 05:06:28 +0000 2020', '1286890539208437760', 'rt @dearhyunjaes: when younghoon & juyeon first gave the hint, hyunjae still guessed wrong yh: how are you! (sounds like hawaii) jy: i', '101_tuna', 1) \n",
            "\n",
            "('Sat Jul 25 05:06:28 +0000 2020', '1286890539196055553', 'rt @arfaarehman: period pain on the first day is literally near death experience', 'nechelletiana', 1) \n",
            "\n",
            "('Sat Jul 25 05:06:28 +0000 2020', '1286890539183484928', 'rt @ap0is0n0us: sub gaming while theyre sat in their doms lap. eyes fixed on the screen as they subconsciously move around on one spot, ca', 'JJKXW', 1) \n",
            "\n",
            "('Sat Jul 25 05:06:28 +0000 2020', '1286890539183411200', 'rt @popzonebr: e a aclamao j chegou! telegraph, the guardian, the sun e inewspaper do nota mxima para #folklore, oitavo lbum de taylo', 'Euaviseik7', 1) \n",
            "\n",
            "('Sat Jul 25 05:06:28 +0000 2020', '1286890539170721793', 'rt @entrepreneur: take a step back from being the scary boss. https://t.co/ncyms2kjqw', 'OlgaSixta', 1) \n",
            "\n",
            "('Sat Jul 25 05:06:28 +0000 2020', '1286890539158126598', 'rt @watchmarquee: bill murray with the 7th inning stretch! https://t.co/jdtmnkoabf', 'LEISUREGODDESS', 1) \n",
            "\n",
            "('Sat Jul 25 05:06:28 +0000 2020', '1286890539124527106', 'rt @diiolive: 2020 https://t.co/99uaftvlfx', 'The_hungry____', 1) \n",
            "\n",
            "('Sat Jul 25 05:06:28 +0000 2020', '1286890539116163072', 'rt @jinxstrology: leo sun: are able to create new ideas or express themselves wholeheartedly. leo sun people must learn not to dim their li', 'angelxfall', 1) \n",
            "\n",
            "('Sat Jul 25 05:06:28 +0000 2020', '1286890539082641408', '@kylegriffin1 @aoc the demonization of aoc by the right is heading into some very dangerous territory, their rhetor https://t.co/u2nmjy0d1m', 'mikelkaz', 0) \n",
            "\n"
          ]
        }
      ]
    },
    {
      "cell_type": "code",
      "source": [
        "s = 'select count(tweetID) as cnt1, handle from tweets group by handle order by cnt1 DESC limit 20'\n",
        "cur.execute(s)\n",
        "rows = cur.fetchall()\n",
        "for row in rows:\n",
        "    print(row)\n"
      ],
      "metadata": {
        "id": "qEQVJDWUnDt5",
        "colab": {
          "base_uri": "https://localhost:8080/"
        },
        "outputId": "954409d3-1055-4d1b-db00-65dbf5d8252e"
      },
      "execution_count": null,
      "outputs": [
        {
          "output_type": "stream",
          "name": "stdout",
          "text": [
            "(16, 'VenkatDhfm00')\n",
            "(14, 'JackyJane19')\n",
            "(12, 'A_Kh_5')\n",
            "(11, 'gaming_stitcher')\n",
            "(11, 'dhfmbeats3')\n",
            "(10, 'Khaleja11117')\n",
            "(10, 'KeshavV78785770')\n",
            "(9, 'Nenu_offcl')\n",
            "(8, 'bmurphypointman')\n",
            "(8, 'EtherealDrill')\n",
            "(7, 'dhfm_ka')\n",
            "(7, 'boingolet')\n",
            "(7, 'Ra_Anila')\n",
            "(7, 'MBFan24818048')\n",
            "(7, 'Kaushal25091986')\n",
            "(7, 'Andreros90')\n",
            "(6, 'the_reddimalla')\n",
            "(6, 'ssmb__2')\n",
            "(6, 'Pranavak7')\n",
            "(6, 'Nikhil00112410')\n"
          ]
        }
      ]
    },
    {
      "cell_type": "code",
      "source": [
        "# Format the dates column YYYY-MM-DD HH:MM:SS. You may do this prior to loading the dates in a SQL Database. Please submit a screenshot of the correctly formatted dates\n",
        "\n",
        "from datetime import datetime\n",
        "\n",
        "formatted_date =\"SELECT date1 as 'Date', * FROM tweets LIMIT 5\"\n",
        "cur.execute(formatted_date)\n",
        "rows = cur.fetchall()\n",
        "\n",
        "# function to format TEXT to datetime in sqllite\n",
        "def format_date(date_string):\n",
        "    tweet_date = datetime.strptime(date_string, \"%a %b %d %H:%M:%S +0000 %Y\")\n",
        "    return tweet_date.strftime('%Y-%m-%d %H:%M:%S')\n",
        "\n",
        "# Print the results with formatted dates\n",
        "for row in rows:\n",
        "    formatted_date = format_date(row[0])\n",
        "    print(formatted_date, *row[2:]) # taken from stack overflow\n",
        "\n"
      ],
      "metadata": {
        "colab": {
          "base_uri": "https://localhost:8080/"
        },
        "id": "h8iBwzm2x2ti",
        "outputId": "4d7a894d-acbc-4b96-92b3-cf1cf3df5fd4"
      },
      "execution_count": null,
      "outputs": [
        {
          "output_type": "stream",
          "name": "stdout",
          "text": [
            "2020-07-25 04:43:04 1286884650187718656 rt @platinumjab: shiv is the seed of the seed of the seed. shiv is the first seed. shiv is the beginning of the beginning of the beginnin Vijaykant087 1\n",
            "2020-07-25 04:43:04 1286884650175074304 rt @catvalente: every millennial i know is locked in their house doomscrolling & baking bread while their parents think masks are poisonous AndaliteBandit 1\n",
            "2020-07-25 05:06:28 1286890539359416321 rt @ghettofabulos0: candy - partynextdoor x nipsey hussle. thats the tweet. reignofmaya 1\n",
            "2020-07-25 05:06:28 1286890539355459586 rt @realjameswoods: #ripbernelltremmell // this hate crime isnt getting much attention from the democrat propaganda machine, but im hopin BrojackNorseman 1\n",
            "2020-07-25 05:06:28 1286890539330211840 rt @iunarmins: do you see the problem https://t.co/8jgulntrnf Franwfilter 1\n"
          ]
        }
      ]
    },
    {
      "cell_type": "code",
      "source": [
        "#Get Tweets\tGet the count of tweets from between July 25 2020 20:00:00 and July 26 2020 20:00:00.\n",
        "#There were 300092 tweets between those dates!\n",
        "\n",
        "countOftweets = '''\n",
        "    SELECT COUNT(*) AS 'Count'\n",
        "    FROM tweets\n",
        "    WHERE date1 >= 'Sat Jul 25 20:00:00' AND date1 < 'Sun Jul 26 20:00:00 20:00:00'\n",
        "'''\n",
        "\n",
        "cur.execute(countOftweets)\n",
        "\n",
        "rows = cur.fetchone()\n",
        "\n",
        "columNames = list(map(lambda x: x[0], cur.description)) # this returns the column names\n",
        "\n",
        "print(columNames)\n",
        "\n",
        "for row in rows:\n",
        "    print(row)\n",
        "\n"
      ],
      "metadata": {
        "colab": {
          "base_uri": "https://localhost:8080/"
        },
        "id": "xuKytl9RyPg5",
        "outputId": "7f111b2c-5b38-45ae-d9b7-6c3e86b2b972"
      },
      "execution_count": null,
      "outputs": [
        {
          "output_type": "stream",
          "name": "stdout",
          "text": [
            "['Count']\n",
            "30092\n"
          ]
        }
      ]
    },
    {
      "cell_type": "code",
      "source": [
        "#function to return hashtags\n",
        "def extract_hashtags(tweet):\n",
        "    hashtags = re.findall(r'#(\\w+)', tweet)\n",
        "    return hashtags"
      ],
      "metadata": {
        "id": "8H5EmIfhlt-h"
      },
      "execution_count": null,
      "outputs": []
    },
    {
      "cell_type": "code",
      "source": [
        "#How many unique hashtags are in the tweets? You do not need to use SQL for this portion of the Homework\n",
        "q = \"\"\" select tweet\n",
        "        from tweets \"\"\"\n",
        "cur.execute(q)\n",
        "\n",
        "rows = cur.fetchall()\n",
        "\n",
        "# Extract unique hashtags from the tweets\n",
        "hashtagList = [row[0] for row in rows]\n",
        "\n",
        "#put the hashtags in a set\n",
        "unique_hashtags = set()\n",
        "\n",
        "#iterate through the hashtagList\n",
        "for row in hashtagList:\n",
        "    h = extract_hashtags(row)\n",
        "    unique_hashtags.update(h)\n",
        "\n",
        "#print out a list of the unique hashtags\n",
        "print(\"Unique Hashtags:\", unique_hashtags)\n",
        "\n",
        "#now print the lengh of the unique hashtags\n",
        "num_unique_hashtags = len(unique_hashtags)\n",
        "print(\"Number of Unique Hashtags:\", num_unique_hashtags)\n",
        "\n",
        "\n",
        "\n"
      ],
      "metadata": {
        "colab": {
          "base_uri": "https://localhost:8080/"
        },
        "id": "AEpetsVBlKSP",
        "outputId": "1b21ad35-bda0-44ff-cd1b-a75b74c72420"
      },
      "execution_count": null,
      "outputs": [
        {
          "output_type": "stream",
          "name": "stdout",
          "text": [
            "Unique Hashtags: {'scripture', 'bsf', 'jerusalema', 'procards', 'apologi', 'usmca', 'twitterfiction', 'joytrain', 'khudahaafiztrailer', 'sb19_sejun', 'fazectrl', 'bkdk', 'ho', 'hentai', 'bihar', 'bonfire', '9', 'hikeworcester', 'applypressure', 'iss', 'nfl100', 'sfm', 'twitchaffiliate', '5sosonamas', 'july25th', 'shadowhunterslegacy', 'nascar', 'petramacneary', 'suspenddebt', 'hkdc', 'blindspot', 'yoongi', 'streetar', 'whittakertill', 'cardiology', 'leaflygrows', 'flattenthefear', 'hailtothech', 'lawsch', 'delusional', 'jadineformyxawards', 'seaside', 'cmnow', 'seehofer', 'firegase', 'servicecheck', 'saudiarabia', 'aguadilla', 'advancehbdpawakalyan', 'psychobutitsokayep11', 'applefitness', 'ihavejoke', 'fit', 'bookblogger', 'bidenforfl', 'mtvhotte', 'changmin', 'agustd', 'valorant', 'truemaster', 'russian', 'aflcrowsdons', 'bb22allstars', 'bakugo', 'siddhartha', 'ccna', 'pinargultekin', 'ncri', 'str', 'loveonthespectrum', 'max', 'happ', 'therampage', 'hozier', 'nevada', 'thefalconandthewintersoldier', 'kubernetes', 'florida', 'strawberrymoonqa', 'hwiyoung', 'indianarmy', 'iwantasap', 'amen', 'tbjlive', 'freefromhijab', 'blmisafraud', 'onair', 'equalexchange', 'get2getherexperience', 'remember_who_we_are', 'sarkaruvaaripaat', 'fortnite', 'magats', 'pmik', 'medianews', 'aishwaryaraibachchan', 'tissot', 'defundpoliticians', 'fbi', 'criticalrol', 'jaihind', 'jhope', 'vss365', 'niketraining', 'judicialcouncil', 'royalehigh', 'zulfiqaralibhutto', 'esports', 'metoo', 'fm20mobile', 'startrektng', 'bftwni', 'happybirthdayasifzardari', 'ai', 'ipob', 'jayashreeram', 'sugarbaby', 'idolomesdejunio', 'cix', 'map', 'shoppingonline', 'shotgunspeakstoarnab', 'moombahtonmassive', 'collapsed', 'gw_macro', 'bugfables', 'scmobile', 'online', 'canadian', 'camping', 'royalhigh', 'eu', 'sb19_ken', 'haitink', '10billiontreetsunami', 'scottyfrommarketing', 'duh', 'coldbrew', 'merky', 'aksen', 'turingmachine', 'brewers', 'hpyu', 'myxmusicawards20', 'sceptile', 'floofy', 'jeonsonee', 'ssrdidntcommi', 'book', '15day1', 'al', 'ericafer', 'missing', 'boundbyblue', 'domains', 'data', 'win', 'gatsby', 'travel', 'dessertchallenge', 'hunterthompson', 'psychology', 'imperialguard', 'covid_19', 'arvs', 'americandad', 'lisatopicskmedia', 'votejoe', 'iranian', 'schiffshow', 'settingthebar', 'tka', 'ages', 'slash', 'li', 'harrystyles', 'voicefirst', 'ravn', 'bharatanenenu', 'beatles', 'regis', 'ourtribe', 'votejoebiden2020', 'falsepositives', 'gugudan', 'kenya', 'fearthedeer', 'vija', 'zxspectrum', 'census', 'osegredonafloresta', 'yourvoiceyourvote', 'homeless', 'banks', 'savethec', 'kingdomhearts', 'aotd19', 'happyfriday', 'halamadrid', 'inspiration', 'fujioro', 'knickstape', 'maheshbabubd', 'demilitarizethepolice', 'defendpdx', '2482', 'dilbecharareview', 'powersummerawards', 'jets', 'premenopause', 'wallaper', 'leagueoflege', 'paphos', 'libya', 'withdraweia2020', 'trivenibuilderloot', 'scholomanceacademy', 'sarkaruvaripaata', 'nhs', 'twibbon', 'taekookau', 'l', 'covid19ab', 'coronavirushoax', 'auschwitzbirkenau', 'letsjustrunawaywithtiffanyyoung', 'henry', 'taskmaster', 'esquerdasegueesquerda', 'firetrumpinnovember', 'chicagoprotest', 'icantbreathe', 'fgo', 'neotribe', 'notts', 'itsokaynottobeokay', 'aagadu', 'dev', 'obeymeseven', 'na', 'cliqueart', '250', 'defundpolice', 'balanwonderworld', 'animes', 'narrabrigas', 'smartwatch', 'aweekwithbts', 'ff7r', 'ps5', 'antisemitism', 'moon', 'wiselifelessons', 'wearegms', 'trumpisacomple', 'radish', 'cash', 'padres', 'truehuman', 'edser', 'qcommunity', 'magadheera', 'gandhizakirfundgate', 'webelong', 'richmond', 'animalri', 'dhameonakhilesh', 'utpol', 'shehnaazgill', 'child', 'friendsnotfood', 'trumpgop', 'xboxgamesshowcase', 'tu', 'daddiesarmy', 'applebycelso', 'dogs', 'freehopwell', 'haydn', 'wxtwitter', 'iraq', 'lgm', 'antisemitic', 'du', 'whatsyourcaption', 'adventuretime', 'falcogrice', 'etsy', 'galapagos', 'parkw', 'ecosystems', 'ide', 'loveisnottourism', 'trumpgestapo', 'bainesyifyougottogoaway', 'takumegu', 'gfriend', 'blacklivesmatteraustralia', 'protest', 'conman', 'strawman', 'antedating', 'sana2020', 'ohfairnessact', 'dancewiththekings', 'rcnow', 'robots', 'potus', 'occupieririregimeisnotlegitimate', 'eternals', 'celticfc', 'khatronkek', 'womensart', 'saarkaruvaaripaata', 'education', 'soon', 'thebrunchtakeover', 'songsfromanemptyroom', 'breathe', 'sauditrump', 'wolverine', 'animalcrossingnewhorizions', 'trumps', 'visitrukunguri', 'bookmark', 'mtvho', 'holywolf', 'landback', 'dororo', 'animefeet', 'henrylau', '49', 'westerncommand', 'attackontitanseason4', 'mydramalist', '10yearsonedirection', 'desatan', 'fumiyam', 'sexist', 'turnitupwithbigbx', 'booklovers', 'insiders', 'hylt', 'photography', 'trumpstrategty', 'ethiopia', 'ys', 'woodyforpresident', 'wallofcitizens', 'undia', 'huskymix', 'sama26', 'crm', 'thegreat38th', 'thanks_dr_am', 'farcry4', 'trumpthedisaster', 'runawaywithhanbin', 'corbyn', 'devolution', 'manoftheworld', 'td8', 'election2020', 'youtube', 'ajithismcdponjuly26', 'wedonotconsent', 'adultswimcon', 'hillaryclinton', 'newsmax', 'leetcode', 'blackbotanicallegacy', 'greatamerican5000', 'staycation2020', 'work', 'vikramadithyan', 'orangehoodie', 'newdeal', 'zoomraveroom', 'deepikapadukone', 'at', 'iam', 'lithium', 'cricket', 'reformeducationsystem', 'haiti', 'sarkaaruvaaripaata', 'naturephotography', 'wallprotest', 'natureinthecity', 'liverpool', 'hiabe', 'saadaljabri', 'behindthescenesphotos', 'lkf9', 'izone_oneiricdiary', 'livestream', '1dfestival', 'msm', 'funkopopnews', 'pictures', 'leader', 'expeditionunknown', 'natitude', 'mybirthdaytomorrow', 'celebrate', 'grindszn', 'tmomf', 'hurricanehanna', 'texas', 'jerusalemaremix', 'lo', 'trumpisanationaldisgrace', 'revenuestandoff', 'fureverfriend', 'fightisland', 'stirling', 'mtv', 'covid19', 'giantess', 'masknazi', 'drinks', '47', 'scandal', 'animalphotography', 'calmdowndear', 'adoptneverbuy', 'dbwoodside', 'gabibraun', 'govsgs', 'freelunch', 'indiedev', 'sb19', 'southtexas', 'cfc', 'eunhyuk', 'putsouthafricansfirst', 'klubmaisha', 'ducey', 'reggaesumfest', 'kaguyasama', 'mytwitteranniversary', 'icymi', 'superstarmahesh', 'tinyfriends', 'facebook', 'andaluciagp', 'jamaladams', 'hannibal', '10yearsof1d', 'americasbiggestmistake', 'demetzdemir', 'assalamoalaikum', 'usmle', 'goodpeople', 'tirumala', 'hongkongs', 'milvschc', 'canadianhistory', 'dear_', 'maskuphoosiers', 'assam', 'setgoals', 'iscore', 'bluewave2020', 'harryandmeghan', 'tnrejectseia2020', 'fact', 'godmorningfriday', 'manufacturing', 'trump2020', 'starlight', '34', 'sand', 'frightclub', 'portlandprotests', 'smugmug', 'ssr', 'thepowerofone', 'istanbulsozlemesiyasatir', 'amwritingfiction', 'demcast', 'retirepelosi', 'scree', 'w', 'nursinghomes', 'sustainability', 'retweeetplease', 'selfobsessionmovement', 'myx', 'businessathlete', 'treasonmedia', 'wetlands', 'sa', 'bristolbay', 'bnha', 'd37', 'poshmark', 'rm', 'seattle', 'hoshiumi', 'tt', 'office', 'walterpayton', 'pokemongofest2020', 'terrorism', 'comedy', 'royalehighhalo', 'ultrabuckcalls', 'nielan', 'ethereum', 'covidhoax', 'endfgm', 'tomorrowlandbecks', 'ff7rfamitsu', 'vadachennai', 'hanbin', 'warhammer40000', 'catra', 'papahowe', 'skier', 'scrapeia2020', 'family', 'pandu', 'circumcision', 'eaststowin', 'haringey', 'doop', 'seizetheday', 'trustortiz', 'operationbluenose', 'noplanetb', 'kazimtaaniiendelee', 'comet', 'hanseungwoo', 'armeniangenocide', 'professional', 'photoshop', '15day2', 'mufc', 'supcase', '46', 'theri', 'map_of_the_soul_persona', 'bds', 'weston', '33644', 'antifaprotestors', 'eth', 'blackhawk', 'ret', 'daumier', 'bokunoheroacademia', 'thisismycrew', 'miyeon', 'albumbattlebts', 'trumpstormtroopers', 'greyandwhitecat', 'releasekhalidsaifi', 'free', 'cuphead', 'onthisday', 'goldench', 'leavingnyc', 'jojosbizarreadventure', 'spygate', 'kag', 'rohitshetty', 'prabhas', 'pocus', 'frontpagenews', 'happyanywhere', 'mahe', 'ballotimages', 'nature', 'veebbnaija', 'thegrudge', 'soundcloud', 'rajinifanslovesushant', 'mumbai', 'defunddhs', 'ajith', 'promotion', 'ecosocialist', '48', 'tonytonitone', 'henrycavill', 'nbabubble', 'sun', 'taxation', 'trumpt', 'bookblog', 'oasisspring', 'sisters', 'swr', 'zigeunerlager', 'ufo', 'roughriderz', 'jr', 'beltrondeojoiningreminder', 'pakunoda', 'rockies', 'capricorn', 'lodirulz', 'lac', 'billgatesbioterrorist', 'sendinquiry', 'coronavirusoutbreak', 'petergreen', 'nffc', 'dems', 'growthegame', 'tx25', 'joaquinbondoni', 'catering', 'russia', 'btsfan', 'haoyixing', 'hawkgang', 'wpnt', 'pa', 'rwby', 'imbegging', 'nightteam', 'arashi', 'blu', 'climatechange', 'edinburgh1970', 'canucks', 'wet', 'mascotolympics', 'cricketisback', 'dir', 'deephouse', 'masks', 'gdragon', 'pitypatty2020', 'feedyourcitychallenge', 'lecrae', 'teamusagi', 'defstar5', 'nurownwor', 'changsha', 'spayed', 'saturdaynight', 'jerusalemdancechallenge', 'queenofheartskajal', 'academiajokes', 'arrestculpritsofs', 'humanrights', 'stormtroopers', '____', 'haverhill', 'bekind', 'lifelesson', 'sovietunion', 'commodore64', 'brickfilmday', 'sherafanart', 'urstrul', 'sarkaruvaaripaa', 'ohjungse', 'playforever', 'ypartypressure', 'mandirtaubanega', 'ssmbbdaytrendonaug8', 'analysis', 'jerusalem', 'nsmassacre', 'ma', 'benedictcumberbatch', 'washingtonpost', 'sapnapto400k', 'netgalley', 'eric', 'denverprotest', 'sex', 'dilbechara', 'maheshb', 'sb19myxgrands', 'courage', 'fridayfeeling', 'kind', 'ripladyred', 'canuckscamp', 'h1b', 'mismartband5', 'pr', 'genebank', 'indianmatchmaking', 'fashion', 'j25', 'heartofprevention', 'nancypelosi', 'trooplife', '10yearsofsherlock', 'msdhoni', 'newyears2021', 'buharidoppelgnger', 'disneychristmas', 'mo', 'tbt', 'leoriodriving', 'snms', 'oeb', 'sb19_jo', 'lifeinaday2020', 'torybritain', 'disabilityvisibility', 'seohyun', 'thesims4', 'mentalhealthawareness', 'zepeto', 'indianarmyourrealhero', 'books', 'coldwar', 'constantine', 'cloudsecurity', 'votebluenomatterwho', 'alottosay', 'kag2020', 'emmetttill', 'rashamidesai', 'rule34', 'talkradio', 'brahimelikkol', 'alpsmountains', 'digitalart', 'hurricane', 'deckerstar', 'hentaibegone', 'theriday', 'thankyoukhaire', '2getherseries', 'israel', 'indies', 'packlite', 'cgtnopinion', 'trading', 'justice', 'trumpvirus2020', 'conservativecensorship', 'mrincredible', 'thekingdomarena', 'sushant', '27', 'okasia', 'angelcitysupporter', 'bleedtheeblue', 'greatpretender', 'explore', 'stem', 'coys', 'magic', 'chinese', 'styleandideas', 'dublin', 'orureis', 'tiburones', 'artificialintelligence', 'thedcut', 'richer', 'archobs2020', 'arkansas', 'todmorden', 'staysafe', 'folkore', 'ipl2020', 'homeschooling', 'fitnessjourney', '50swomen', 'websites', 'wescandal', 'my200vsbutch200', 'iland_ep5', 'cia', 'bolivia', 'lemanrussbattletank', 'ssmbbdaytrendonaugust8th', 'alluarjun', 'lufc', 'cardiganmusicvideo', 'dominiccunmings', 'meccano', 'ni', 'zeepruk', 'justice4saraya', 'eeeeeats', 'barakazamilele', 'arrestc', 'shameonabp', 'durham', 'health', 'savereservation_saveconstitution', 'terrorists', 'italia90', '1billionviews', 'filmfatales', 'workingassets', 'ges', 'thegreatawaking', 'toolyrical', 'jongup', 'sundaymorning', 'visitntungamo', 'newyorkknicks', 'wilpower', 'arrestbuh', 'destroy', 'mamamoo', '2051', 'day13', 'ateam', 'twd', 'secunderabad', 'moneydom', 'ptfinals', 'catradora', 'hasurartistmetbeyoncebef', 'monsterhunter', 'britishairways', 'donaldtrump', 'bioasiataiwan', 'itsokaytonotbeokay', 'btsfanart', 'whyaretheylikethis', 'whitehouse', 'assistancedogsofhawaii', 'mindcontroldevice', 'sakuyakonohanakan', 'yankees', 'thearcana', 'obesity', 'punjabpolice', 'trumpgolfsamerica', 'btsxamas', 'bollywood', 'edtech', 'terencetrentdarby', 'soil', 'wake', 'eurovision', 'maga', 'bluelivesmatters', 'army', 'puyopuyo', 'luoyunxi', 'foxnews', 'oursalutetopakarmy', 'obeyme', 'nctu', 'sloshedcinema', 'bc', 'staycation', 'chiefs', 'robinhood', 'fifa21', 'hanaemi131', 'startoftherestart', 'stoparmenianoccupation', '1nenokkadinewas', 'france', 'qe', 'cryptotrading', 'lucario', 'chicagoprotests', '2020eisnerawards', 'grammy', '2018', 'mcallen', 'por', 'humor', 'acdc', 'moscowmitch', 'splatfest', 'mountaincat', 'newspapers', 'boycottmlb', 'myfavegirlever', 'bbnaija2020', 'sarkaru', 'utm2020', 'thrashmetal', 'culturewins', 'escapefromtarkov', 'svsss', 'zumaexit', 'machinelearning', 'dashtfon', 'speakupindia', 'papermario', 'magicavoxel', 'anime', 'suho', 'edoispdp', 'pokiri', 'alphabi', 'tlou', 'firs', 'seattleprotestcom', '91143martgiveaway', 'thefourmonkeys', 'nike', '49ers', 'georgepapadopoulos', 'turn_off_the_lights_muscat', 'emiratesfacup', 'kimdami', 'thriller', 'junta', 'destroychina', 'rend', 'gilbertaz', 'losangeles', 'covid19india', 'aliens', 'adh', 'jin', 'katanazero', 'folklorelistening', 'fe3h', 'fuly', 'moditubelighthai', 'coronavirusupdate', 'cat5calvary', 'disability', 'pakistan', 'settlersaturday', 'qanon', 'leftshark', 'p5r', 'urstrulymahesh', 'texans', 'alacranesdurango', 'glam', 'daily', 'cyrilramaphosa', 'goalsetter', 'chicago', 'dulquerdaytrendonjuly27', 'adoptnevershop', 'masterful', 'grammar', 'heroesact', 'oneyearfordearcomrade', 'theowlhousespoilers', 'okkadu', 'thejoneses', 'concretecowboytrailer', 'snsd', 'fdr', 'pedddlewestmarket', 'labor', 'russianbounty', 'mahes', 'thekingsman', 'puspha', 'federaloversight', 'katsinaabusitesconnect', 'jn', 'dtn', 'reddeadonline', 'dessertdance', 'letfightghostth', '02', 'wnba', 'zanupfmustgo', 'blackswan', 'bluejays', 'sqlsatalbany', 'gloriabambo', 'quarantine', 'ranwan', 'wiseup', 'maheshbhatt', '2ha', 'itsokaytono', 'wins', 'initforgood', 'cocktail', 'greenleaf', 'fooding', 'growsomethingnew', 'anthonydavis', 'rwby8spoilers', 'military', 'p', 'polandball', 'icecream', 'blacklivesma', 'horror', 'inzane', 'ricky', 'italian', 'fiaerc', 'opskwad', '1965vra', 'sushanthsinghrajput', 'ngsq', 'swiss', 'occupiedportland', 'smile', 'defi', 'patriots', 'sarileruneekevvaru', 'factfiles', 'pumpitup', 'cdnpoli', '31', 'sarkaruvaar', 'agentsofshield', '___', 'virtu', 'blacklivesmatter', 'transcrowdfund', 'seunghun', 'outlander', 'lifehacks', 'bella', 'halsey', 'artistontwitter', 'eidaladha', 'healt', 'kansascityprotest', 'milanatalanta', 'legco', 'winner', 'mccann', 'gameswagurday', 'rwbyspoilers', 'campingworld', 'vrvr', 'bl', 'genealogy', 'blacklivesmatt', 'edutwitter', 'werespectzayn', 'fentyskin', 'love', 'liberals', 'watch', 'gleeupdatesprom', 'lovetoread', 'xboxseriesx', 'modi', 'sciencejokes', 'gamemaker', 'bahubalibookseries', 'vangogh', 'pow', 'pakiglambigit2020', 'eremika', 'theleffectreloaded', 'somalia', 'ccp', 'jafra', 'healthy', 'til', 'trainingnighttogger', 'fridayfeelin', 'historical', 'followme', 'll4pm', 'dyk', 'mentalhealth', 'draw', 'fishing', 'dams', 'genmilley', 'weeklywalk', 'savethedate', 'tv5iscoming', 'muqdisho', 'authors', 'alloutnyc', 'lionel_ccstca_04', 'obamagate', 'web', 'rescuerabbit', 'gutter', 'chromeback2020', 'hearttohe', 'teamvee', 'jungkook', 'phenomqcshowcase', 'ambition', 'uncommitted', 'taal', 'lacrosse', 'mooting', 'tachad', 'mindfulnesss', 'chessington', 'successdreams', 'crab', 'staystrongpilipinas', 'republicansvirus', 'top100', 'fascists', 'mdzs', 'bfdcontest2020', 'pressfreedom', 'takebackcontrol', 'rwrunstreak', 'dtr', 'countryhum', 'sign', 'weed', 'auschwitz', 'opensource', 'style', 'mulan', 'stjohns', 'rochefortrun', 'steelers', 'solidari', 'virtualatevent', 'portlandstrong', 'disinfor', 'belgian', 'federal', 'lgbt', 'thedayibecameagod', 'gulam', 'mets', 'loc', 'gutfeld', 'excludedukappg', 'balochistan', 'examfromhome', 'cats', 'newtimes', 'ipl', 'papermariotheorigamiking', 'roman', 'gaggle', 'climatecrisis', 'austinprotests', 'rv1styear', '1yearfordearcomrade', 'duval', 'onhere', 'theshowmustgoon', 'criticalrole', 'wniagospelradio', 'krampus', 'roblox', 'psychobutitsokay', '251', 'christianliving', 'abed', 'johnnydepp', 'myxawards2020fumiyam', 'tomhiddleston', 'dremtgi', 'audia6', 'gleeupd', 'teachertips', 'godmorningsaturday', 'makewaymakechange', 'hansunhwa', 'lag', 'trumpfailedamerica', 'lalisa', 'taeyeon', 'renjun', 'kaal_isthe_speakerofgita', 'canoness', 'erenjaeger', 'kargilvijaydiwas', 'smallbiz', 'suffolk', 'echl', 'ripbernelltremmell', 'katyperrytomorrowland', 'edison', 'lions', 'carolinedurand', 'racism', 'palestinians', 'signalboost', 'celebsforsmallbiz', 'energy', 'kargilheros', 'blmterrorists', 'rabendamagazinexmewgulf', 'indonesia', 'tiktokwe', 'coro', 'invisibledisability', 'black', 'manic', 'trumpsterfire', 'dreamsps4', 'postponejeeandneetagain', 'negotiation', 'weloveyoulana', 'worldalbums', 'comicconatho', 'ladakh', '115', 'hr', 'recognition', 'angelamongus', 'pooltime', 'overwatch', 'huntsmen', 'chennai', 'hitrefresh', 'sweetnight112', 'spain', 'btc', 'goutamghose', 'homeschool', '9840432022', 'fundsforfranky', 'berlin', 'thankyouigot7', 'manufa', 'theuntamedwatchparty', 'teammarvelous', 'sotrue', 'healingoodprecure', 'rwby7', 'art', 'maxpayne', 'blackpinkhouse', 'kimsoohyun', 'pokeporn', 'birmingham', 'jogos', 'romanticautumn', 'kkk10', 'soulstew', 'bakra', 'smarthistory', 'infinityleaked', 'robotics', 'epictaehyung', 'diorcruise', 'hurrican', 'geraldgonnagetyou', 'sanditonpbs', 'boxing', 'gen', 'tnregectseia2020', 'morality', 'proudofseokjin', 'kingdomwithpahlavi', 'austintx', 'sadhguruquotes', 'supremejustice', 'maga2020', 'casualty', 'blogengage', 'blink', 'playtowin', 'karishmabhosale', 'findom', 'gttb', 'kitchen', 'saturdayvibes', 'projectwack', 'twitter', 'arrestbuha', 'malware', 'bts', 'dontforgetsyria', 'san', 'maharashtra', 'contestalert', 'buckcitybreakerbox', 'nintendoswich', 'pollinators', 'seahawks', 'july25', 'smashfascism', 'burnout', 'instantwin', 'yerbamate', 'co', 'efc', 'hungergames', 'beverages', 'fireandrescue', 'arrestculpritsofssr', 'taeyang', 'va01', 'defeatkevinmccarthy', 'nationalpicnicmonth', 'artdepartment', 'usnavy', 'sutherslam', 'dogtheft', 'meded', 'mailthevotefl', 'michelleobamapodca', 'wholenewgame', 'x1f', 'guyharvey', 'communists', 'mercedes', 'oneweekuntil', 'blomob', 'careerday202', 'success', 'yuenlong', 'stocks', 'xfmxplosion', 'rocketpunchcomeback', 'covidcrisis', 'unsolvedmysteries', 'indianmatchmakingnetflix', 'kingofbeers', 'tbia', 'bikes', 'leagueoflegends', 'mcu', '19', 'gamepro', 'rdr2pc', 'nintendoswitch', 'salmankhan', 'izone', 'hepatitisc', 'nct', 'neowise', 'itsstillbeautiful', 'bloodstained', 'kajalaggarwal', 'smackdown', 'warriornun', 'truth2power', 'xpresssuperslowbees', 'mang', 'bhagavadgitaquotes', 'lory_macromini', 'sdccbeatathome', 'pl', '31july2020', 'lakernation', 'donorschoose', 'vaadivasal', '721yuenlongattack', 'serendipitousscience', 'gestapo', 'beardedvulture', 'avatarthelegendofaang', 'xmen', 'screenshotsaturday', 'cornwall', 'girlpact', 'cowboys', 'fblivewithsuniljha', 'mvhottest', 'portlandriots', 'khaplu', 'deepspacenine', 'sagittarius', 'illusionofamessiah', 'boating', 'if', 'science', 'matarifelaserie', 'hotelpool', 'wikile', 'medbikini', 'slave', 'unrealengine', 'ufc', 'greekart', 'dystonia', 'leadright', 'adoptmetrades', 'women', 'rebuildingparadise', 'ptifamily', 'nradio', 'playingforpeace', 'everytime', 'ghostoftsusima', 'kanyewest', 'b', 'mystateraproject', 'tndemandsobcreservation', 'iamgrandprince', 'u2', 'cheetah', 'earpers', 'reddeadredem', 'mnsheltierescue', 'digital', 'windrushscandal', 'factcheck', 'voicesinthedark2020', 'gdprforsme', 'jofoes', 'maskup', 'mustread', 'skiumah', 'ronjohnson', 'drinklocally', 'fascisttrump', 'sarkaruvaaripaata', 'monsterhearts', 'rva', 'pos', 'sat', 'freebizonto', 'savesanditon', 'bbnaijalockdown', 'hyak', 'rays', 'sarkaruv', 'flythew', 'amazingfacts', 'disinformation', 'highrenaissance', 'mzansi', 'deku', '10', 'maheshbabubdaycd', 'houseless', 'myxmusicawa', 'know', 'tvtime', 'lightskin', 'shera', 'takeaknee', 'ontario', 'clc', 'alaskas', 'haitiantwitter', 'tiktoks', 'ingodwe', 'lfcthai', 'keadrive', 'dech', 'mtvhottest', 'maronite', 'adventurethatislife', 'this', 'sopreciousnoodles', '_lookatme_macro', 'moon_jin_', 'teamozo', 'advance', 'shelbyville', 'hiveblog', 'amwriting', 'breakingnews', 'animalcro', 'economy', 'vegan', 'jeongin', 'scummedia', 'mumbaipolic', 'goodmorningtwitterworld', 'hk', 'painting', 'omidscobie', 'durbanjuly', 'wiley', '1qwithcnbctv18', 'txwx', 'oakland', 'breonnataylor', 'superm', 'hannigram', 'ny', 'dylanwang', 'covidiots', 'astro', 'lmholiday', 'schoolreopening', 'canesten', 'xboxone', 'greeksummerfeeling', 'hunicast', 'datamining', 'ihaveajoke', 'republican', 'cancels', 'dungeonsanddragons', 'socialdistancing', 'lfcchampions', 'straykids', 'kathnielcelebr8onasap', 'henriedmondcross', 'jjba', 'alien', 'deepstate', 'adventures', 'brambleramble', 'thread', 'newstip', 'gayartis', 'dufy', 'texasedition', 'america', 'nba', 'dancer', 'showboating', 'xboxg', 'np', 'brisbabyshower', 'sdccathome2020', 'joshua', 'rocketpunch_bluepun', 'larrystylinson', 'htgawm', 'atpm', 'incrediblestori', 'spb', 'fireemblemthreehouses', 'shahnama', 'convictedfelon', 'pride', 'noireblossom', 'glee', 'the8', 'israeliapartheid', 'justiceforkarnatakastudents', 'taehyung', 'kagame', 'switzerland', 'oneandonlyhals', 'stoparmenianagression', 'noevictions', 'eagles', 'yeson21', 'lukaku', 'give', 'operationvijay', 'restartamerica', 'democrat', 'ff14', 'eggieselcaday', 'imu2020', 'care', 'bobmarley', 'careerday2020', 'royalhightrades', 'dbacks', 'rwby8', 'thailand', 'teamwang', 'luciferseason5', 'louisville', 'imaydestroyyou', 'theworldofphantom', 'gorsuchstyle', 'apotwaward', 'sarscov2', 'climateaction', 'caturdaynightpawty', 'vijaydiwas', 'paygeorgekittle', 'ki', 'davegrohl', 'kaduna', 'yelp', 'friendlyadvice', 'blmbodfire', 'assistancedogshi', 'portlandmoms', 'retrogaming', 'mylove_hanb', 'bogs', 'bookreviews', 'aspc20', 'ripregisphilbinhttps', 'fairskin', 'great_macroshotz', 'studiotime', 'usps', 'acnh', 'cann', 'businessintelligence', '69000_____', 'recap', 'thelastofuspartii', 'ayoydhya', 'achorusline', 'expojakarta', 'kcor', 'dark', 'smartnews', 'elgreco', 'onepiece', 'akinakinz', 'onelove', 'gawx', 'wecharity', 'subhabakhair', 'kashmir', 'billbarr', 'nationalist', 'tpg1', 'kav', 'riseofvalour', 'sarka', 'bblivefeeds', 'ontheairnow', 'btsarmy', 'mtvhottestbts', 'rip', 'maheshbabubdaycdprt', 'sweetnight1121', 'rushlimbaugh', 'badminton', 'mt', 'supportskotia', 'aqours', 'mvthottest', 'promo', 'support', 'kangdaniel', 'indy', 'fightisland3', 'disneyhol', 'rocketleague', 'clippernation', 'cberecommends', 'retweet', 'feelt', 'blacklivesmattters', 'grinding', 'africom', 'myxawards202', 'california', 'blood', 'betterthanatrafficcone', 'ps4share', 'lfc', 'voteblue', '_ldc2013', 'seasonofyouinmy', 'please', 'lebronjames', 'shindanmaker', 'quenbluerefreshingboost', 'ghostoftsushima', 'e', 'armenia', 'latenightmovie', 'australia', 'candaceagainsttheuniverses', 'daechwita', 'bakudeku', 'shadowhunters', 'bookreview', 'wedding', 'doctorwho', 'giveaway', 'churchforallnations', 'parkwoojin', 'tgcf', 'soobin', 'taiwan', 'onairromeo', 'dragon', 'ada30', '10th', 'nicknews', 'ten', 'applepencil', 'zoo', 'southchinasea', '10yearsofonedirection', 'americanwomen', 'sb1', 'votebymail', '25julydawnofrisingpakistan', '3', 'cocktails', 'whole', 'todomomo', 'sdcconline', 'ios14', 'dangerdawgz', 'animalcrossing', 'hawaii', 'royalehightrades', 'draftdodgerdonald', 'stdystonia', 'president', 'borusara', 'pictureoftheday', 'cuba', '24', 'lls', 'lockdownhouseparty', 'loverfestwest', 'ecb', 'meaningoflife', 'azerbaijan', 'dnd', 'earth', 'fire', 'daehyun', 'celt95fm', 'omgmaleperformance', 'zakharova', 'lbinmlb', 'itsokaytonotbeoka', 'ufcfightislan', 'sales', 'bjp', 'ghislainemaxwell', 'treason', 'crimesofgrind', 'undisputedchampion', '2013', 'cm3', 'mha', 'area51', 'lilia', 'trumplackey', 'trump', 'sinclairbroadcasting', 'f1', 'tejas', 'mydstv', 'arrestbuhari', 'ados', 'grayandwhitecat', 'running', 'razerstreamer', '216', 'sarkaruvaarip', 'bridear', 'horanplay', 'cellphone', '32', 'books2020', 'hinata', 'courageinkar', 'justice4george', 'indieavengers', 'summer', 'imolagp', 'americ', 'blacktwitter', 'didyouknow', 'jichangwook', 'nayeon', 'music', 'teamalbummost7', 'nigeria', 'thegiftofhearing', 'nfac', 'bawaljudgmental', 'maori', 'odx', 'woods', 'masksareonlyforpeasants', 'forthea', 'yibo', 'impactful', 'thehollowcrown', 'sefikura', 'cauverycalling', 'writerscommunity', 'sfj', 'fiction', 'tatsuyanomura', 'eisneraward', 'artistlevelup', 'corona', 'covenanthourofprayer', 'jallikattu', 'creatorofuniversegodkabir', '1yearofshaheenepakis', '33', 'sorn', 'taemin', 'wwdc20', 'photopherapy', 'aldensuperbods2020', 'when', 'playtogether', 'southasianheritagemonth', 'moshang', 'radiologists', 'knicks', 'food', 'showerthoughts', 'indianarmedforces', 'holiday', 'austin', 'onlyartisttaehyung', 'royalehightradings', 'supplychain', 'onlineshopping', 'notuntilitssafe', 'maxandthebookofchaos', 'constantinople', 'lockdown', 'thedressagehour', 'quoteoftheday', 'wind', 'sb19_justin', 'marketing', 'uwmadison', 'newpfp', 'blm', 'chaelisa', 'ukrtc', 'terlanjurmencinta', 'lostikcup', 'kindl', 'yoho', 'dororo_fanart', 'bonniehunt', 'militiagroup', 'nikon', 'startrek', 'opry', 'l1c4', 'alreadyvideo', 'nationalwineandcheeseday', 'sainikudu', '92l', 'abvp', 'kurtapajama', 'bears', 'boston', 'hongkongers', 'pakhtunkhwa', 'verivery', 'portlandprotest', 'galveston', 'chicagoscanner', 'myxawards20', 'timstwitterlisteningparty', 'yoshikichannel', 'female', 'projectbluebeam', 'norwex2020', 'uncletom', 'movierebootsweneed', 'bi', 'multicloud', 'everydayhero', 'worldbeating', 'jenn', 'hhn30', 'mexican', 'giddy_up', 'recallvote', 'steel', 'mlbisback', 'rippetergreen', 'nctdream', 'myxawards2020', 'answersfro', '10daykapamilyachallenge', 'info', 'comicconathome', 'theeternals', 'walls', 'lucien', 'gameplay', 'somosestudiantes', 'redsox', 'recoverybegins', 'bangalore', 'bancodeseries', 'whovians', 'nationalparentsday', 'firetheucp', 'jaeyoon', 'maskaround', 'dog', 'x1flash_1', 'lesliewexner', 'bbnaijia20', 'staffs', 'hhn', 'theruffriderz', 'chani', 'hellomysoulmate', 'falcon', 'annarbor', 'sixonsaturday', 'herdcomformity', 'darksouls3', 'seokjinarticle', 'network', '1hit', 'hurricaneh', 'splatoon2', 'worcester', 'xrpcommunity', 'savegujaratnre', 'ateez', 'seblog', 'lagossmebootcamp', 'rickandmorty', 'saturdaythoughts', 'betwayfyi', 'shakuntaladevionprime', '17', 'dulquerbdaytrendonju', 'saifahzon', 'so', 'trumpcesspool', 'alps', 'radio4', 'raiders', 'd50', 'donate', 'qamargul', 'wynonnaearpseason4', 'raysup', 'thetestingmustcontinue', 'rvaprotests', 'ontyranny', 'severus', 'crosstalk', 'nocode', 'nbawards', 'hs2', 'blesstheharts', 'ssrdidntcommitsuicide', 'language', 'scicomm', 'electionday', 'riots', 'mls', 'ss', 'dulquerbdaytrendonjuly27', 'viropower', 'montana', 'freepalestine', 'breaking', 'find', 'giants', 'mewgulf', 'virginhotel', '18', 'letsgobucs', 'dileven', 'mostreque', 'lasvegas', 'virginnashville', 'goducks', 'chainlink', 'nintendo', 'huaweip30pro', 'letsgo', 'po', 'd4fam', 'optavia20', 'destruction', 'lifeison', 'democracy', 'fridaylivestream', 'demcastsc', 'saturdaymotiv', 'richachadha', 'thecreaturefromtheblacklagoo', 'sunmi', 'nishida', 'largs', 'lacueva', 'tankathursday', 'cherylumuri', 'mots7', 'truth', 'fake', 'wall', 'bombalasanaa', 'mahlers', 'm', 'sushantdeathmystery', 'xfactor', 'askruan', 'index', 'sunny', 'neon', 'echobox', 'may', 'kz150dra', 'share', 'trumpvi', '74', 'duks', 'showusyourbuilds', 'xbox', 'hecarim', 'healthcareheroes', 'diversity', 'ros', 'hannas', 'ozoemena', 'wildandwonderful', 'kargilvijaydi', 'q', 'portlandoregon', 'myspiritblossomsona', 'christian', '90dayfiancehappilyeverafter', 'kiro', 'dogsoftwitter', 'widowmaker', '5', 'dmt', 'fossilfriday', 'americaortrump', 'wallagainsttrump', '100days', 'osomatsusan', 'familytime', 'historicalfiction', 'bunnyrabbit', 'u_r_the_sun', 'auspol', 'other', 'fascis', 'crazytrain', 'tygartlake', 'barbwires', 'cromwell', 'china', 'sesamestreet', 'munc', 'galapa', 'splatfests', 'xjapan_lyrics', 'bbattle', 'synthfam', 'scotland', 'miz', 'design', 'sweepstakes', 'greattimes', 'solar', 'cravity', 'arashisummer', 'ch', 'llsly', 'gratitude', 'opi', 'onelasttime', 'superjunior', '1yearofshaheenepakistan', 'returntome', 'futurebride', 'justiceiscoming', 'allstars5', 'qudsmartyrsnigeria', 'bitcoin', 'cbl_verivery', 'interview', 'ecopop', 'mobilegaming', 'nfl', 'guruthalaivaa', 'lastinglife', 'postponejee_neetincovid', 'thetoweringdisaster', 'sencalkapm', '076', 'need', 'jagamethandh', 'zakirnaik', 'angelinequinto', 'blackmail', 'chrishemsworth', 'below', 'comicconathome2020', 'onmyoji', 'toxic', 'anlogajunctionalbum', '80', 'dbfz', 'mastercheftrkiye', 'skincancer', 'teamlinares', 'games', 'gavin', 'growthtowatch', 'shadowsfx', 'laizquierdasocialista', 'sarkaruvaaripataa', '1nanokka', 'worldenvironmentday2020', 'roxchic', 'nopressure', 'youngk', 'eda', 'kegreani', 'rt', 'deephouselovers', '1bill', 'future', 'waveformgaming', 'azure', 'fitness', 'fanplu', 'newyorkcity', 'jisoo', 'exorcise', 'stolen', 'seyed_mohammad_hosseini', 'mlb', 'sussex', 'ertugrulghazi', 'cutegaming', 'inspire', 'obasekiflagoff', 'asi_es_macro', 'metallic', 'kik', 'myheroacadamia', 'nysvr434', '2yearswithchanwoosari', 'maheshbabubday', 'riseagain', 'unsolvedmysteriesnetflix', 'inabudhabi', 'moocrew', 'walkaway', 'sqlsat961', 'ealingbusinessdiary', 'anti', 'savedowhostel', 'caturday', 'thegameisstillon', 'mediterrania', 'interruption', 'kcprotest', 'maheshbabu', 'lax', 'responsibletogether', 'ssd', 'blogger', 'kdppe', 'funko', 'postables', 'krupp', 'delhiantihinduriotsreport', 'dao', 'abolis', 'titanic', 'desh', 'enoughisenough', 'adoptmetrading', 'sb19myxgrandslam', 'btsv', 'jcole', 'trumpsvirus', 'pupresq', 'davidfoster', 'mom', 'ssmbbdaytrendonaug8th', 'charmed', 'letsgetdown', '2020', 'pitvsstl', 'resisters', 'cardigan', 'freedomsquare', 'thelastwave', 'youth', 'omega', 'thesimpsons', 'cathsbooks', 'curegrace', 'internationalbogday', 'crimeseries', 'imbackingblueberry', 'lbprc', 'dhoni', 'got7', 'blacklivesmattter', 'thatciceroguy', 'trumpregime', 'leoluo', 'breaktheblackstigma', 'friarfaithful', 'golf', 'getridofeppicard', 'thefugitivequibi', 'independent', 'standwithhongkong', 'samdarnold', 'hurricanedouglas', 'howlingsnailtshirt', 'us', 'spyder', 'lamborghini', 'bocaparkanimalhospital', 'infosec', 'amjoy', 'niggaeria', 'cf', 'devon', 'amazfit', 'apps', 'viswasam', 'nsfw', 'libdem', 'putsouthafricanfirst', 'portisabel', 'husly', 'mestak', 'tachadancechallenge', 'strengthless', 'itsallagame', 'taurus', 'whaleybridge', '25julyblackday', 'bowser', 'yangxiaolong', 'flapol', 'davekat', 'billionaires', 'newshot', 'trumpthreatensamerica', 'arashisumm', 'rtb', 'nerdsunitecon', 'theelites', 'amas', 'bookboost', 'sark', 'safersummerscheme', 'nocompulsorycovidduty', 'midoakpe', 'tjmaxx', 'dilbecharacreateshistory', 'firelecce', 'omg', 'discord', 'interpol', 'nou', 'london', 'vijaydeverakonda', 'unalienablerights', 'dadswithleafblowers', 'dilkokaraaraaya', 'mangrove', 'thorsday', 'onev1', 'deutschebank', 'chartjunk', 'patreon', 'amapianoisalifestyle', 'thelastdrivein', 'prt', 'affiliate', 'gamedev', 'ingrahamangle', 'kcet', 'sm32013471', 'kargilvijaydivas', 'bb22', 'puducherry', '3dborderlessscreen', 'bbnaija', 'nofgm', 'inthenews', 'hummingbird', 'maheshbabubdayc', 'nagpanchami', 'spop', 'yiff', 'thearcanagame', 'stayhomestaysafe', 'dj', 'nyj', 'teamiphone11pro', 'treasure', 'thevoicekidsuk', 'nh01', 'blackowned', 'bambam', 'ilgwt', 'reno4pro', 'chelseafc', 'yoyoing', 'radioactive', 'vampirethemasquerade', 'wapo', 'ente', 'painters', '806', 'anitwt', 'masjid', 'medtwitter', 'yalc', 'gassysonglyrics', 'thefastshow', 'elijahmcclain', 'sizetwittwer', 'gttb1st', 'phoolandevi', 'indie', 'excerpts', 'amazingsaturdaywithexo', 'beyonc', 'itsokaytobenotokayep11', 'karen', 'saynotougcguudelines', 'wawfullzwedding', 'traito', 'worldenvironmentday', 'jinan', 'cabiclothing', 'percussionists', 'iran', 'pixelart', 'harumamiura', 'freetrayvon', 'googlehome', 'survivingjoeex', 'cold', 'binzoto', 'maheshbabubdycdp', 'lumity', 'coffee', 'on', 'shinee', 'takeb', 'vakeelsaab', 'wearamask', 'palestinewillbefree', 'catsoftwitter', 'chinastory', 'missorocks', 'bnk48', 'louisvuittons', 'dna', 'marktuan', 'pisceswomen', 'azuredevops', 'nrlwarriorsroosters', 'hajj', 'scammed', 'ucfchurchonline', 'tejasswiprakash', 'plcamerabagchallenge', 'bhuladunga', 'budlight2four', 'fanart', '250000forcorbyn', 'woojin', 'nypost', 'conceptart', 'nationalmothweek', '99', 'murder', 'fauci', 'king_leedo_day', 'cham', 'demleadersnot', 'teamycmn', '100daysofcode', 'tolanibaj', 'comedywithdishtv', 'dessertdancechallenge', 'beverage', 'ripchief', 'healthtech', '12', 'bloodaid', 'chanyeol', 'khcommunityday', 'letsgooilers', 'champasagar', 'new40k', 'deblasio', 'myteenromanticcomedysnafu', 'leorio', 'overkill', 'selenat', 'tanka', 'ufcfightisland3', 'sb19countdowntomyx', 'chaos', 'carparking', 'ob', 'india', 'fakenews', 'poorvika', 'themidnightguardians', 'caters', 'christmasinjuly', 'maheshbab', 'docker', 'cupra', 'tdx20gg', 'motivate', '1yearwithseoultownroad', 'donateplasmasavelives', 'cpc', 'outdoors', 'tomcotton', 'thepolltruth', 'backto60', 'consumption', 'chargers', 'fgmnauthor', 'glencoe', 'oppo', 'nasa', 'c', 'taehyungnaver', 'trendy', 'wallofmom', 'stlcards', 'artoflegends', 'marlana', 'maheshbabubdaycdpmy', 'rss_terrorists', 'chen', 'saratoga', 'marvelavengers', 'biden2020', 'computer', 'raouldufy', 'pettheftreformthe', 'regisphilbin', 'katchatheevu', 'iartg', 'ssak3', 'vacation', 'astrologyfacts', 'hometobilo', 'sixtones', 'blogs', 'talai', 'renewables', 'zikokoquiz', 'muellerreport', 'nochillgain', 'coronavirus', 'affinitweet', 'justicecon', 'khr', '6monthsawifey', 'otd', 'talkingtomyself', 'harrison', 'sets', 'covidsafe', 'namyangju', 'writingcommunity', 'queensland', 'vivi', 'trumpism', '1nenokkadine', 'worldinaday', 'maheshbabubdaycdp', 'youngone', 'devonkedevmahadev', 'robloxdev', 'morning', 'cutfdaredtape', 'thyssen', 'bbnaij', 'indiafirst', 'ab6ix', 'writer', 'athadu', 'nationaldayofthecowboy', 'kimyoojung', 'productiondesign', 'backtheblue', 'brexit', 'jlos', 'shehnaazinnews', 'slowly', 'sunset', 'biggboss13', 'movi', 'pdx', 'link', 'metvbuckrogers', 'weekend', 'bubbline', 'di', 'sempremilan', 'talkdeadtome', 'sdconcast', 'bbnaijia2020', 'flash_streaming', '35', 'downtoearth', 'lovecraftcountry', 'teambruno', 'trumpisaracist', 'nowplaying', '1147', 'jamestissot', 'mge', 'sclass', 'space', 'finserv', 'bestrongtogether', 'television', 'grfp', 'vets', 'suicideawareness', 'trumpvirusrally', 'steam', 'rgv', 'malawi', '34ligas', 'disgustinghawk', 'run', 'americanvaluesbiden', 'vipersdaughter', 'cmoncity', 'bidenpride', 'dystoniaawareness', 'freebiefriday', 'autism', 'romance', 'saynotoredbull', 'greek', 'nosafespaceforjewhate', 'mahesh', 'mayward', 'quotes', 'bbnajia', 'spotlight', 'georgefloyd', 'sciencefiction', 'simplynitin', 'internetradio', 'gtworldcheu', 'peoplesstimulus', 'sonicthehedgehog', 'legitfamlist', 'gamersunite', 'mm_myartwork', 'noidont', 'economists', 'sanjose', 'blendedlearning', '7yearsofbigtimedreams', 'zuckerberg', 'github', 'superstar', 'pgallamericans', 'jayers', 'sherlock', '4', 'bts_of_the_day', 'discoveringdiamonds', 'sarkaruva', '1disback', 'governors', 'deaf', 'kindle', 'ryanwhitaker', 'idp', 'greatlakesrocks', 'itismydam', 'lovenature', 'themetallicreawakening', 'mawutayelo', 'fearporn', 'cheated', 'myl', 'politicalchinavirus', 'die', 'vmas', 'gpt3', 'interim', 'dreamconcert', 'mtvhott', 'apartheid', 'christians', '22', 'gopbirdsofaf', 'justiceleague', 'termoftheday', 'thecmopodcast', 'drkafeelkhan', '100mosthandsomefa', 'joebidenjob', 'yxe', 'stolenelection', 'doglife', 'toeic', 'amberheard', 'geeta', 'urazkaygilarolu', 'pray', 'ibayan', 'pomona', 'mostrequestlive', 'march', 'banking', 's', 'timetotravel', 'gsi2020', '60', 'trumpisacompletefailure', 'teammarvelou', 'momsarehere', 'warhammer40k', 'visitmbararacity', 'vhcc2020', 'swain', 'inspiredbymeghan', 'linaresfort', 'arjun', 'hydroxychloroquine', 'bristol', 'leobabies', 'mshayimrthela', 'winmetawin', 'artist', 'obsidian', 'muslim', 'itsokaytonotbeok', 'polarbear', 'cyprus', 'enjoysummersafely', 'conscience', 'littlemermaidau', 'fivetoolhitting', 'hive', 'oromoprotests', 'tbdbitl', 'atla', 'nycprote', 'linkinp', 'trex', 'bbnaijalockdown2020', 'ista', 'xp', 'dumdidumdi', 'netpicks', 'solidarity', 'systemsvictimdrkafeelkhan', 'dbd', '10yearsone', 'gcbacklog', 'duvall', 'vijay', 'mtvhotttest', 'blacklivesmattte', 'ept200', 'teamgodvek', 'vergonhatvi', 'configarmy', 'trumpisnotwell', 'excludeduk', 'bip', 'austinprotest', 'welove', 'warzone', 'outsideshort', 'calgary', 'venom', 'ar', 'slowlyapp', 'gratefulheart', 'fintech', 'minneapolis', 'undi', 'capti', 'mtvstars', 'georgefloydriots', 'americasgreatestmistake', 'isi', 'ridenwithbiden2020', 'yamyamgucong', 'valimai', 'militarystandards', 'canyaman', 'bigjoeythumbs', 'boruto', 'technofanart', '100m_lov', 'gameboysep9', 'fireoosterhoff', 'purge', 'shakespearesunday', 'map_of_the_soul_7_the_journey', 'jtbcprivatelife', 'engineer', 'earthday', 'news', 'obeymax', '1yearsofkalakkalhita1', 'sleepytwt', 'chatwithmark', 'yeonbin', 'vaping', 'muruga', 'trumptraitor', 'adaptingtothenewnorm', 'westbelvedere', 'esd', '1yearfordearcomr', 'adoptmetraders', 'streetd', 'blackl', 'kargilvijaydiwas2020', 'beprepared', 'bantrophyhunting', 'sajesnetale', 'concept', 'makecapetowngreatagain', 'fortheh', 'k', 'sports', 'pawankalyan', 'davidduchovny', 'googles', 'god', 'fcdm1927', 'dremstuff', 'hagiasophiamosque', 'therapy', 'xrp', 'firsttwothings', 'fitnesslifestyle', 'philippines', 'baejinyoung', 'hongkongpolice', 'joshnella', 'goldnationals', 'mymusicchallenge', 'grateful', 'johnson', 'spiritblossom', 'goldenhour', 'dig', 'hongk', 'backinblack', 'bbnaijia', 'stnewmancluster', 'latinosfortrump', 'milehighbask', 'zodiacfacts', 'devotionalphotography', 'aldenrichards', 'lococontigoremix', 'forcedhijab', 'saturdaymorning', 'trumpsgestapo', 'iland', 'vibes', 'adulting', 'the', 'renoir', 'jeethoiinsafki', 'maheshba', 'leimun', 'lgy', '3d', 'newprofilepic', 'morocco', 'polo', 'jate', 'freeousman', 'arizona', 'halloweenlives', 'itsoka', 'wallofvets', 'naseerabad', 'beautifulbeasts', 'jadinefor', 'dvsmonitor', 'wildlifephotography', 'pondprophet', 'quote', 'championship', 'newcore', 'suga', 'reliancejio', 'galaxya31ph', 'tiananmensquaremassacre', 'victorianmystery', 'jamdownke', 'alert', 'pakarmystandlikewall', 'ssmbbdaycdponjuly25th', 'taylorswift', 'pawanka', 'creed4g4', 'kanebrown', 'bloodborne', 'comics', 'rajeevmasand', 'corgicrew', 'teamtucker', 'virtualmarket', 'gellertgrindelwald', 'radio', 'devaswomboard', 'theowlhouse', 'proud', 'bhafc', 'sooraraipottru', 'coron', 'tb', 'a', 'mustangnation', 'arash', 'gamesworkshop', 'messi', 'freegrace', 'durbinliesimmigrantsdie', 'royals', 'cryptocurrency', 'psikologlardavasndahakl', 'markhyuck', 'kaalacourt', 'du23', 'ir', 'timdamian', 'f1tracks', 'fluffyfunkopop', 'muchbetter', 'jeffreyepstein', 'tropics', 'ppe', 'maheshbabubda', 'teethanapon', 'michiganterrorists', 'tsa', 'illustration', 'shuake', 'misogynist', 'mystyleisreal', 'loveher', 'indiafightscorona', 'cannabis', 'groomingreport', 'peachydelightupdates', 'afg', '6', 'operations', 'clearthelist', 'sikhsforjustice', 'pursuehappiness', 'businessman', 'funeral', 'lessonplanning', 'lmao', 'apple', 'jayapa', 'gardening', 'idololgbtq', 'emetselch', 'daddysgurlbilinasuki', 'graying', 'sosgalapagos', 'justiceforjorge', 'gayart', '1yearfordearc', 'domesticviolence', 'winning', 'niggalation', 'exclusive', 'postimpressionism', 'rckscandyphgo', 'ssmb27', 'aliensky0', 'alldaylong', 'schoolrangers', '2020vision', 'finalfantasy', 'ajmer', 'westandwithnupursharma', 'greennewdeal', 'riversdale', '9gagcutedog', 'marxistuniversity', 'whoswhoofdu', 'patriarchhoyek', 'inbetweenep3', 'sanditon', 'saturdaysailing', 'releasetheayercut', 'cardinals', 'cpcnonsense', 'sidnaaz', 'resist', 'passiveaggressive', '28yearsofajithism', 'freejagginow', 'fantasticbeasts', 'suckulentsfistreveal', 'dreamgirls', 'icc', 'apollo15', 'wakeupamerica', 'democratsaredestroyingamerica', 'openuk', 'keepingbrunosafe', 'prabhastrendonaugust1st', '40', 'swee', 'worldssp300', 'silentslaughter', 'pdxprotests', 'internationalspacestation', 'rosalindfranklin', 'ripbruce', 'usstocks', 'blacklivesmatters', 'flwx', 'cabinlife', 'firezackhall', 'darksouls', 'unidentified', 'crabapple', 'zoophotography', 'darkchocolate', '37', 'gautam', 'availjakarta', 'exo_sc', 'gaming', 'allstars', 'renewableenergy', 'hideout', 'openingweekend', 'corruptmedia', 'hajj1441', 'chloroquine', 'frankfurt', 'gulfkanawut', 'mag', 'farfro', 'writers', 'drdoomfauci', 'world_bestmacro', 'iamnotwithjoebiden', 'facts', 'lia_bunbunac', 'olivierassayas', 'lakeshow', 'walkingdead', 'ariacharts', 'trudeau', 'jojo', 'twitchs', '15m', 'arc', 'ncslma2020', 'ipados', 'nigerian', 'top10', 'tomorrow_x_together', 'celebrationforchange', 'srb2kart', 'pizzagatelsreal', 'catalonia', 'josaligawserye', 'sheraandthepr', 'socialmedia', 'mobile', '1s', 'hoshi', 'pedddleuk', '_', 'mexico', 'classroom', 'mtvhottes', 'coffeetime', 'forex', 'fatego', 'ssmb', 'khabarovsk', '100daystogo', 'comic', 'newyork', 'coding', 'voiceteensknockouts', 'ntr', 'somalis', 'jucoproduct', 'tblf', 'nostalgiagasm', 'ridemcowboys', 'votebluetosaveamerica2020', 'borglife', 'justiceforakra', 'kagu', 'coldplay', 'tea', 'cancelrent', 'huskylove', 'odud', 'fitnesslife', 'jadine', 'blackpink', 'deathofanation', 'joinmazinnamdikanu', 'comiccon', 'pianist', 'puresteel', 'twitchaffilate', 'gestapotrump', 'st', 'spreadlove', 'fulfillment', 'kazimta', 'racist', 'producks', 'karabakh', 'climatechangeisreal', 'ya', 'mostrequestedlive', 'hardcoredude', 'thalaajith', 'nowstreaming', 'yan', 'iamlegend', 'antifa', 'cultural_sunday', '1', 'gambierisland', '__', 'gdpr', 'friends', 'startup', 'dogsoftwittter', 'globalpartnershipforeducation', 'zelo', 'biden', 'astramilitarum', 'fumiyamontfc', 'milo', 'spidermanps4', 'uspoli', 'atcems', 'houstonconsulate', 'courageinkargil', 'holditdown', 'goptaxscam', 'the_levite1', 'trumpviruscatastrophe', 'tonorrow', 'liquidscreen', 'philliesyouthacademy', 'judgeyama', 'kyuhyun', 'fruit', 'firstandfast', 'houston', '__2', 'proudlefty', 'gopcomplicittraitors', 'jimin', 'dr_ayya_81', 'mainemyxawar', 'kumeyaayprotest', 'onf', 'religionmanipulation', 'thekin', 'lovelife', 'fatherbobmaguirefoundatio', 'liarsandleakers', 'eatorbeeaten', 'portland', 'water', 'newasala', 'meettheracsmentors', 'syria', 'sterlingstatepark', 'barstoolspo', 'blackconserv', 'sichuan', 'theuntamed', 'swissalps', 'latothebay', 'jeremyclarkson', 'colletonco', 'thechi', 'camptfk', 'morethananat', 'miavsuta', 'matsuno', '1900gradepay_gsrtc', 'brightwin', 'rocketpunch', 'trumpublican', 'witingtips', 'thugs', 'almasaakin1441', 'horrorwoodrpg', 'alwest', 'vetnursepaula', 'blessed', 'radwimpss', 'fridayfailures', 'coldbeer', 'wwg1wga', 'opening', '720524', 'dissidents', 'defendmeattor', 'jintrend', 'peeglecreators', 'clarkgregg', 'senalkapm', 'kargilvijay', 'benghazi', 'twst', 'folklore', 'rom', 'legendarymax', 'loveinbloom', 'marijuana', 'off_the_record', 'gb', 'changethename', 'voteonlyblueamerica', 'grayskull', 'madeindreams', 'momtifa', 'biltong', 'onewe', 'lka', 'prabha', 'sb19onmyxawards', 'hupallnight', 'halo', 'teamtitan', 'beyoncealready', 'exercise', 'dilbecharaday', 'break_all_th', 'postcardstovoters', 'toronto', 'princeandrew', 'justiceforssr', 'tachaxsopreciousnoodles', 'livefromepidaurus', 'gamereview', 'ichimatsu', 'sb19ti', 'alltars5', 'throwbackthursday', 'irony', 'iparty', 'mla', 'wallofdads', 'mileyrockinrio', 'prop209', 'janefinch', 'nagpan', 'python', 'topgear', 'bigbang', 'plasticstraws', 'follow', 'propaganda', 'cubs', 'warhammercommunity', 'seoyeji', 'addwash', 'mahaaghadi', 'apexl', 'literary', 'openingday', 'breakingbad', 'secretlyawizardwithafamiliar', 'heavyrotationth', 'welovedarlingprabhas', 'ikon', 'sfindnonprofit', 'adhd', 'gospursgo', 'seethammavakitlosirimallechettu', 'baseballisback', 'ptaatraveltourexpo', 'itsokaytonotbeokayep1', 'bills', 'freaksandgeeks', 'sdcc', '5daysbanking', 'exoscatdreamconcert', 'voxels', 'perthtanapon', 'truehumanitywarriors', 'chrisevans', 'hlvrai', 'fategrandorder', 'moralofthestory', 'rallyddiromacapitale', 'wallofveteran', 'ireadtheq', 'fop', 'japan', 'blackisking', 'trainingnight', 'ok', '20factsabouttaetee', 'eosm', 'lastfm', 'travelban', 'braves', 'tabahikay2saal', '31daysofapex', 'voxelart', 'americasbigge', 'dreamblob', 'mshayimrthel', 'derrosenkavalier', 'blackinneuroweek', 'gmb2020', 'qatar', 'physician', 'ad', 'impostor', 'ala', 'monstax1stwi', 'irans', 'people', 'shamelessselfpromosaturday', 'peacefulprotest', 'pac12', 'madwoman', 'master', 'gophers', 'blackinchem', 'finelinearg', 'madden21', 'archerfxx', 'betterthanbutch', 'hungary', 'sonagkaisa', 'teambidendisabilitycoa', 'gohawks', 'makeafricahomeagain', 'votenup', '__3', 'ccnp', 'mentalillness', 'tottenham', 'taketwo', 'business', 'wallofmoms', 'rpth', 'censurarmatarifees', 'ifyoubuildittheywillcome', 'niggaleaf', 'brickf', 'iphone', 'exo', 'laligasantander', 'cult45', 'planning', 'titans', 'no', 'margarita', 'blackops', 'iheartfestival', 'rapidqi', 'gidle', 'pm', 'the_start', 'fashionblog', 'timesupshahid', 'thfc', 'covid19tshelp', 'r', 'memes', 'eiadraft2020', 'maheshbabub', 'beijing', 'manga', 'hxh', 'bhagvadgitaquotes', 'letshaveapioneerriot', 'tabletop', 'vanicontest', 'relax', 'tresaguasfest', 'ther', 'ghana', 'isoj2020', 'technology', 'tarotofthedivine', 'indiachinaborder', 'frugallivingtip', 'thefirststep', 'littlemix', 'folkl', 'cbelovesyou', 'coroplastrules', 'bvg', '24_365_with_blackpink', 'supersaturday', 'delhi', 'sonic', 'barr', 'ff7', 'saveusps', 'symsat', 'murdochmafia', 'goodmorning', 'pandemic', 'imu', 'justicefighting', 'netflix', 'new', 'bumbleby', 'charlottefc', 'tedcruz', 'fpl', 'attackontitan', 'rajasthanpoliticalcrisis', 'newsalert', 'taxtwitter', 'takeourcountryback', 'shattaisking', 'smartcheck', 'khaleesinengi', 'wayv', 'zeke', 'viratkohli', 'offgu', 'trueachievements', 'thekingdommindeset', 'thebreezecomics', 'theflash', 'hongkong', 'eccentric', 'elixirultime', 'bookish', 'describepoliticsin3words', 'hyderabad', 'boldandbeautiful', 'saveshadowhunter', 'delhipolice', 'haloinfinite', 'saynotoapsharipur', 'athomeyalc', 'fuckfeds', 'live', 'riverdale', 'reachingforthestars', 'dreambig', 'smartph', 'sqlsaturday', 'include', 'ilayaraja', 'sussexsquad', 'welcometotheshow', 'newmusic', 'bronies', 'maintenancetechnician', 'tshirt', 'labourantisemitis', 'l1', 'sachinpilot', 'sabcnews', 'janasainiks', 'drug', 'dvbia', 'twitch', 'growtogether', 'canada', 'travellocal', 'lebanon', 'michaeljfox', 'laughallyouwant', 'theopeningset', 'growinguphonduran', 'fr', 'europedaywe', '38', 'thecountofmontecristo', 'loire', 'joyceteaching', 'sportsengine', 'peeglelive', 'militia', 'coronaviruspandemic', 'careers', 'teamlaycon', 'seventeen', 'stayhealthy', 'lisa', 'sar', 'renovation', 'fe', 'wwg1wwga', 'revoke_sact', 'sehun', 'toffeln', '56', 'aleppo', 'skinnygirl', 'ictitle', 'strongertogether', 'inthesummur', 'crypto', 'sushantsinghrajpoot', 'er_start_initial_alp_training_online', 'honoredaumier', 'archive', 'dhfm', 'timdami', 'supportsmallstreamers', 'soundcloudwithkun', 'weareherehanbin', 'danbury', 'takecare', 'muskohvalley', 'yootaeyang', 'thala', 'nwslchallengecup', 'precure', 'radiohea', 'arrahman', 'dungeonquest', 'tenchittapho', 'onted', 'astros', 'transmountain', 'tories', 'kanganaranaut', 'alwx', 'usa', 'westvirginia', 'hiking', 'uk', 'spiderman3', 'houwx', 'pyeongchang2018', 'android', 'security', 'bravenewworld', 'beltron', 'avatarthelastair', 'foodporn', 'mcfc', 'socialchange', 'wvu', 'italy', 'georgetownkaren', 'srilanka', 'moremorrison', 'bbsomudigido', 'seattleprotests', 'ilfest', 'openaccess', 'katemiddleton', 'mlbopeningday', 'timessquare', 'assanges', 'lfcc', 'freewestpapua', 'sarkaruvaaripata', 'starwars', 'cnn', 'arra', 'nba2k21', '85southshow', 'inspiringl', 'tcot', 'beltrondeoj', 'hendoshuffle', 'jefferson', 'helps', 'dystoniacureneeded', 'megamanperfectblue', 'thinkbigsundaywithmarsha', 'dpdactivity', 'letsgofurthertogether', 'homevideohistory', 'reading', 'bbrightvc', 'weskatefor', 'palestinemustlive', 'afterwecollidedmovie', 'administrative', 'sundayvibes', 'catholic', 'khalistani', 'tolos', 'seungri', 'ootd', 'farc', 'reunionof7willcomeintime', 'chakweraweeklypresser', 'iwillfollow', 'sushantsinghrajput', 'spnfamily', 'votebluetosaveamerica', 'richmondprotest', '8', 'mino', 'wearamasksavealife', 'recipeoftheday', '36', 'srb2', 'ootb', 'ripcity', 'quotesda', 'rosary', 'teumes', 'samcoonrod', 'iland_jake', 'kargil', 'pocom2pro', 'eia2020draft', 'stlouis', 'haikyuu', 'speakupfordemocracy', 'yuyuhakusho', 'wewillnotcomply', 'blacklovevirtualconcert', 'sajid', 'haiku', 'makeinindia', 'flukemybromance2', 'istandwithhongkong', 'mah', 'ssn', 'kims', 'itsmyturn', 'comicco', 'digimonliberation', 'pettyparty', 'chinavirus', 'inthesummer', 'terrorist', 'onedirection', 'kingdomnetflix', 'tomorrowland2020', 'kashmiri', '4themany', 'clay', 'ac', 'ecg', 'day6', 'pcs2', 'graysum2020', 'twotl', 'democratsaremarxistsdestro', 's386', 'community', 'turkey', 'aldubatadnfaithandlove', 'nbc4ny', 'fitnessmotivation', 'karenfire', 'charlotte', 'kindleunlimited', 'webinar', 'fourmoreyears', 'lau', 'botd', 'trumpvirus', 'maximized', 'lockdownphotochallenge', 'nbatwitter', 'nct127', 'yeezyvision', 'emmalution', 'yyc', 'dumptrump2020', 'ciaras', 'ripregis', 'consumerbreak', 'theboyz', 'navigator', 'votebiden2020', 'daylatedolla', 'labour', 'plymouth', 'akshayakalpa', 'drummers', 'microsoft', 'wangyibo', 'transportation', '31july', 'bbna', 'mtg2xm', 'newwiee', 'lakers', 'alcoholban', 'tharneedswatercanal', 'growingupsalvadoran', 'heartbreakweather', 'sushantsinghr', 'logkiakahenge', 'johnlewis', 'husky', 'nhl', 'usaemaillist', 'kimjaehwan', 'univeralbasicnotaxes', 'belleme131', 'jesus', 'reddeadredemption2', 'payrollsupportprogram', 'rkgk', 'komarambheemntr', 'bassfishing', 'nascaropinion', 'worstpresidentever', 'templeelephants', 'therightstuff', 'chinapelosivirus', 'weekendplans', 'figsofinstagram', 'ps4', 'artshare', 'magicaboveall', 'kkk10grandfinale', 'kai', 'canceldemocrats', 'redminote9', '27julydrkafeelhearing', 'funnytees', '50', 'motivation', 'stockmarket', 'artph', 'howtovote', 'benpc', 'bbnaijialockdown', 'competition', 'sayhern', 'innovation', 'cyberpunk', 'email', 'morningperson', 'haloinfinte', 'dogsarelove', 'lavieestbelle131', 'ayasofia', 'covid', 'endthenightmare', 'nursing', 'cardi', 'thislife', 'bodybuilder', 'irs', 'eastyork', 'writerslift', 'sf9', 'spinless', 'twice', 'teamfollowback', 'berniebros', 'pleaseloveme', 'darrenxrobi', 'ananas', 'abujakadunarail', 'cardigans', 'boomer', 'lobsters', 'colombo', 'modinomics', 'biotech', 'koreanfood', 'course_complet', 'candle4ssr', 'sorpasso', 'buysouthafrican', 'russiareport', 'v', 'rrrmovie', 'dh', 'wingware', 'hanna', 'triven', 'cpec', 'nats', 'men', 'itsokaytonotbeokayep11', 'redhat', 'letusworship', 'kissingbooth2', 'albertmp3radio', 'champ19ns', '2', 'borghese', 'drinking', 'cloudsfornamjoon', 'royalehightrading', 'usmnt', 'instagram', 'lit_layzhang', 'noexaminassam', 'jummekiraat', 'sketchingroger', 'world', 'yafavleo', 'lastdance', 'bobbybonilla', 'blackbotanistsweek', '6yearsofvikramadithyan', 'imdb', 'byunwooseok', 'preciousnayla', 'sayhername', 'teamlook', 'plymbridge', '100m_love_for_x1', 'chenfeiyu', 'persona5royal', 'blog', 'hercai', 'denverprotests', 'employeeexper', 'fakedeathnumbers', 'centurytunasuperbods2020', 'promotefina', 'besafe', 'westcoastbestcoast', 'sherlock10anniversary', 'x1', 'webradio', 'cybersecurity', 'micdup', 'criticalrolefanart', 'tt1916', 'protests', 'africa', 'highlands', '38daystogopspkbday', 'greece', 'ebook', 'corruptandcomplicitgop', 'menstruators', 'persona5', 'lgbtq', 'louistomlinson', 'sb19_se', 'dapps', 'effigy', 'otconcierto25j', 'yahoo', 'sarkaruvaa', 'wh', 'thewatcherlong', 'fantastic', 'sharpiegate', 'tha', 'kambala', 'thedailydoubleday', 'rosamundpike', 'madeinaustria', 'jobs', 'klance', 'damselvirtualconference', 'tropicalstormhanna', 'publishing', 'justiceforbreonnataylor', 'achieve', 'mum', 'lisreal2401', '7', 'urus', 'tawan_v', 'dookudu', 'vr', 'contest', 'corrupt', 'rosaparks', 'lec', 'handwashing', 'adamdriver', 'nurownw', 'smoothparty', 'rohit', 'zaimalamy', 'hongkon', 'liarinchief', 'butchhartman', 'writing', 'iida', 'painter', 'wecanbeheroes', 'voice', 'advancehbdmaheshbabu', 'sweetcorn', 'carparkingmultiplayer', 'dailysea', 'ripregisphilbin', 'legion', 'rock', 'stopboknal2020', 'italianart', 'waeu', 'salutes', 'blackmarketwins', 'beltrondeojoiningremi', 'biz', 'mandator', 'bible', 'pnac', 'drugpricing', 'jerusalemadancechallenge', 'taekook', 'somi', 'tajmahalmustremain', 'moneypowerrespect', 'jesuscalling', 'poetry', 'wethepeople', 'americafirst', 'efemrides', 'papers', 'meghanmarkle', 'th', 'reds', 'pilots', 'mit', 'zoa', 'hbh20', '15', 'togetherdc', 'highered', '6yearsofblockbusterkick', 'boycottwnba', 'jaygraydon', 'stanbulszlemesiyaatr', 'alreadychallenge', 'pirates', 'newkingsroadv', 'doduunevkaderindir', 'imvoting4slickbecause', 'sundays', 'bokoharam', 'bernelltremmell', 'dearcomrade', 'fridaysforfreedom', 'cabingarden', 'anxietyrelief', 'onew', 'baramulla', 'rockanglais', 'hagiasophia', 'themanilatimescsi', 'gita', 'everglow', 'pdxprotest', 'russettv', 'dukinfield', 'puns', 'jeep', 'palmolive', 'thelastdance'}\n",
            "Number of Unique Hashtags: 3853\n"
          ]
        }
      ]
    },
    {
      "cell_type": "code",
      "source": [
        "\n",
        "import matplotlib.pyplot as plt\n",
        "\n",
        "from collections import Counter\n",
        "\n",
        "s = \"\"\"\n",
        "    SELECT tweet\n",
        "    FROM tweets\n",
        "    WHERE INSTR(tweet, '#') > 0;\n",
        "\"\"\"\n",
        "cursor = cur.execute(s)\n",
        "tweets_data = cursor.fetchall()\n",
        "\n",
        "\n",
        "# find all hashtags the database\n",
        "all_tweets_text = ' '.join(result[0] for result in tweets_data)\n",
        "numOfHashtags = re.findall(r'#\\w+', all_tweets_text)\n",
        "\n",
        "# use Counter() to count how many hashtags per the hashtags var\n",
        "hashtags_counter = Counter(numOfHashtags)\n",
        "\n",
        "top_hashtags, counts = zip(*hashtags_counter.most_common(10))\n",
        "\n",
        "plt.barh(top_hashtags, counts, color='blue')\n",
        "plt.xlabel('# of Hashtags')\n",
        "plt.ylabel('Hashtags')\n",
        "plt.title('Top 10 Hashtags')\n",
        "plt.show()\n",
        "\n"
      ],
      "metadata": {
        "id": "4oFV__X1nD1q",
        "colab": {
          "base_uri": "https://localhost:8080/",
          "height": 472
        },
        "outputId": "9b2d5453-3f1c-46ed-d99b-11e6010d9414"
      },
      "execution_count": null,
      "outputs": [
        {
          "output_type": "display_data",
          "data": {
            "text/plain": [
              "<Figure size 640x480 with 1 Axes>"
            ],
            "image/png": "[encoded data removed]"
          },
          "metadata": {}
        }
      ]
    },
    {
      "cell_type": "code",
      "source": [],
      "metadata": {
        "id": "k7ZOI5oKaAqd"
      },
      "execution_count": null,
      "outputs": []
    },
    {
      "cell_type": "code",
      "source": [
        "cur.close()\n",
        "con.close()"
      ],
      "metadata": {
        "id": "4n2OvnD8UIk5"
      },
      "execution_count": null,
      "outputs": []
    },
    {
      "cell_type": "markdown",
      "source": [],
      "metadata": {
        "id": "BHV0zDpXnMXT"
      }
    }
  ]
}